{
 "cells": [
  {
   "cell_type": "code",
   "execution_count": 1,
   "metadata": {
    "ExecuteTime": {
     "end_time": "2019-08-29T16:29:15.866837Z",
     "start_time": "2019-08-29T16:29:14.869505Z"
    }
   },
   "outputs": [],
   "source": [
    "import pandas as pd\n",
    "import numpy as np\n",
    "import json\n",
    "import requests"
   ]
  },
  {
   "cell_type": "markdown",
   "metadata": {},
   "source": [
    "# real-time data"
   ]
  },
  {
   "cell_type": "markdown",
   "metadata": {},
   "source": [
    "**Data Source**\n",
    "- google gtfs-realtime-bindings: https://developers.google.com/transit/gtfs-realtime/examples/python-sample\n",
    "- gtfs.py: https://pypi.org/project/gtfs.py/\n",
    "- pygtfs: https://pypi.org/project/pygtfs/\n",
    "    https://pygtfs.readthedocs.io/en/latest/"
   ]
  },
  {
   "cell_type": "markdown",
   "metadata": {},
   "source": [
    "**Reference**\n",
    "- https://www.residentmar.io/2018/01/29/gtfs-tripify.html\n",
    "- https://rstudio-pubs-static.s3.amazonaws.com/368765_99afb255f92341d5932e585a6889b83e.html"
   ]
  },
  {
   "cell_type": "code",
   "execution_count": 2,
   "metadata": {
    "ExecuteTime": {
     "end_time": "2019-08-29T16:29:15.871859Z",
     "start_time": "2019-08-29T16:29:15.868832Z"
    }
   },
   "outputs": [],
   "source": [
    "# install dependent library first\n",
    "# ! pip install --upgrade gtfs-realtime-bindings"
   ]
  },
  {
   "cell_type": "code",
   "execution_count": 13,
   "metadata": {
    "ExecuteTime": {
     "end_time": "2019-08-29T16:50:25.192380Z",
     "start_time": "2019-08-29T16:50:25.019513Z"
    },
    "scrolled": false
   },
   "outputs": [
    {
     "name": "stdout",
     "output_type": "stream",
     "text": [
      "id: \"000001\"\n",
      "trip_update {\n",
      "  trip {\n",
      "    trip_id: \"050400_1..S02R\"\n",
      "    start_date: \"20140917\"\n",
      "    route_id: \"1\"\n",
      "  }\n",
      "  stop_time_update {\n",
      "    arrival {\n",
      "      time: 1410960713\n",
      "    }\n",
      "    stop_id: \"140S\"\n",
      "  }\n",
      "}\n",
      "\n",
      "id: \"000002\"\n",
      "vehicle {\n",
      "  trip {\n",
      "    trip_id: \"050400_1..S02R\"\n",
      "    start_date: \"20140917\"\n",
      "    route_id: \"1\"\n",
      "  }\n",
      "  current_stop_sequence: 38\n",
      "  current_status: IN_TRANSIT_TO\n",
      "  timestamp: 1410960574\n",
      "  stop_id: \"140S\"\n",
      "}\n",
      "\n"
     ]
    }
   ],
   "source": [
    "from google.transit import gtfs_realtime_pb2\n",
    "import urllib.request\n",
    "\n",
    "# url = 'http://datamine.mta.info/mta_esi.php?key=0a31860d17592bb141b8fe2052e64091&feed_id=26'\n",
    "url = 'https://datamine-history.s3.amazonaws.com/gtfs-2014-09-17-09-31'\n",
    "feed = gtfs_realtime_pb2.FeedMessage()\n",
    "response = urllib.request.urlopen(url)\n",
    "feed.ParseFromString(response.read())\n",
    "\n",
    "print(feed.entity[0])\n",
    "print(feed.entity[1])"
   ]
  },
  {
   "cell_type": "markdown",
   "metadata": {
    "ExecuteTime": {
     "end_time": "2019-08-28T19:59:20.356605Z",
     "start_time": "2019-08-28T19:59:20.347637Z"
    }
   },
   "source": [
    "# historical GTFS-realtime"
   ]
  },
  {
   "cell_type": "markdown",
   "metadata": {},
   "source": [
    "- AmazonAWS DATA: https://datamine-history.s3.amazonaws.com/index.html\n",
    "    - http://datamine-history.s3.amazonaws.com/gtfs-2014-09-17.tgz\n",
    "- Read local NTFS: https://stackoverflow.com/questions/38958751/parsing-nyc-transit-mta-historical-gtfs-data-not-realtime?answertab=votes#tab-top\n"
   ]
  },
  {
   "cell_type": "markdown",
   "metadata": {},
   "source": [
    "## Integret all gtfs of a single day"
   ]
  },
  {
   "cell_type": "code",
   "execution_count": 4,
   "metadata": {
    "ExecuteTime": {
     "end_time": "2019-08-29T16:29:17.933311Z",
     "start_time": "2019-08-29T16:29:17.925332Z"
    }
   },
   "outputs": [],
   "source": [
    "def parsegtfs(gtfsFilePath):\n",
    "    # This function parsegtfs overwrites the global dictionary named 'dict1'\n",
    "    \n",
    "    # read in gtfs\n",
    "    f = open(gtfsFilePath, 'rb')\n",
    "    raw_str = f.read()\n",
    "    msg = gtfs_realtime_pb2.FeedMessage()\n",
    "    msg.ParseFromString(raw_str)    \n",
    "\n",
    "    # structure gtfs\n",
    "    gtfs_timestamp = msg.header.timestamp\n",
    "    for i,entity in enumerate(msg.entity):\n",
    "        if entity.HasField('trip_update'):\n",
    "            arrival_time = entity.trip_update.stop_time_update[0].arrival.time\n",
    "            stop_id = entity.trip_update.stop_time_update[0].stop_id\n",
    "            trip_id = entity.trip_update.trip.trip_id\n",
    "            route_id = entity.trip_update.trip.route_id\n",
    "\n",
    "            entity2 = msg.entity[i+1]\n",
    "            current_stop_sequence = entity2.vehicle.current_stop_sequence\n",
    "            current_status = entity2.vehicle.current_status\n",
    "            vehicle_timestamp = entity2.vehicle.timestamp\n",
    "            vehicle_stop_id = entity2.vehicle.stop_id       \n",
    "\n",
    "            if arrival_time < gtfs_timestamp or current_status == 1:  # current_status == stopped_at or arrival before gtfs uploading are considered to be actual arrival. \n",
    "                dict1[trip_id+ '-' + str(gtfs_timestamp)] = \\\n",
    "                                {'trip_id': trip_id,\n",
    "                                    'gtfs_timestamp': gtfs_timestamp,\n",
    "                                    'arrival_time': arrival_time,\n",
    "                                    'stop_id': stop_id,\n",
    "                                    'route_id': route_id,\n",
    "                                    'current_stop_sequence': current_stop_sequence,\n",
    "                                    'current_status': current_status,\n",
    "                                    'vehicle_timestamp': vehicle_timestamp,\n",
    "                                    'vehicle_stop_id': vehicle_stop_id\n",
    "                                }"
   ]
  },
  {
   "cell_type": "code",
   "execution_count": 5,
   "metadata": {
    "ExecuteTime": {
     "end_time": "2019-08-29T16:30:17.198803Z",
     "start_time": "2019-08-29T16:29:17.936303Z"
    }
   },
   "outputs": [
    {
     "name": "stderr",
     "output_type": "stream",
     "text": [
      "C:\\ProgramData\\Anaconda3\\lib\\site-packages\\ipykernel_launcher.py:8: RuntimeWarning: Unexpected end-group tag: Not all data was converted\n",
      "  \n"
     ]
    }
   ],
   "source": [
    "import os\n",
    "FolderPath = \"20190630\"\n",
    "gtfsFileNames = os.listdir(FolderPath)\n",
    "dict1 = {}\n",
    "for gtfsFileName in gtfsFileNames:\n",
    "    gtfsFilePath = FolderPath + '/' + gtfsFileName\n",
    "    try:\n",
    "        parsegtfs(gtfsFilePath)\n",
    "    except:\n",
    "        continue"
   ]
  },
  {
   "cell_type": "code",
   "execution_count": 6,
   "metadata": {
    "ExecuteTime": {
     "end_time": "2019-08-29T16:30:17.210770Z",
     "start_time": "2019-08-29T16:30:17.199800Z"
    },
    "scrolled": true
   },
   "outputs": [
    {
     "name": "stdout",
     "output_type": "stream",
     "text": [
      "281552\n"
     ]
    },
    {
     "data": {
      "text/plain": [
       "{'trip_id': '023580_7..N',\n",
       " 'gtfs_timestamp': 1561882795,\n",
       " 'arrival_time': 1561882785,\n",
       " 'stop_id': '711N',\n",
       " 'route_id': '7',\n",
       " 'current_stop_sequence': 13,\n",
       " 'current_status': 2,\n",
       " 'vehicle_timestamp': 1561882785,\n",
       " 'vehicle_stop_id': '711'}"
      ]
     },
     "execution_count": 6,
     "metadata": {},
     "output_type": "execute_result"
    }
   ],
   "source": [
    "print(len(dict1))\n",
    "dict1['023580_7..N-1561882795']"
   ]
  },
  {
   "cell_type": "code",
   "execution_count": 7,
   "metadata": {
    "ExecuteTime": {
     "end_time": "2019-08-29T16:30:34.357910Z",
     "start_time": "2019-08-29T16:30:17.214759Z"
    }
   },
   "outputs": [
    {
     "name": "stdout",
     "output_type": "stream",
     "text": [
      "(281552, 9)\n"
     ]
    },
    {
     "data": {
      "text/html": [
       "<div>\n",
       "<style scoped>\n",
       "    .dataframe tbody tr th:only-of-type {\n",
       "        vertical-align: middle;\n",
       "    }\n",
       "\n",
       "    .dataframe tbody tr th {\n",
       "        vertical-align: top;\n",
       "    }\n",
       "\n",
       "    .dataframe thead th {\n",
       "        text-align: right;\n",
       "    }\n",
       "</style>\n",
       "<table border=\"1\" class=\"dataframe\">\n",
       "  <thead>\n",
       "    <tr style=\"text-align: right;\">\n",
       "      <th></th>\n",
       "      <th>arrival_time</th>\n",
       "      <th>current_status</th>\n",
       "      <th>current_stop_sequence</th>\n",
       "      <th>gtfs_timestamp</th>\n",
       "      <th>route_id</th>\n",
       "      <th>stop_id</th>\n",
       "      <th>trip_id</th>\n",
       "      <th>vehicle_stop_id</th>\n",
       "      <th>vehicle_timestamp</th>\n",
       "    </tr>\n",
       "  </thead>\n",
       "  <tbody>\n",
       "    <tr>\n",
       "      <th>023580_7..N-1561882795</th>\n",
       "      <td>1561882785</td>\n",
       "      <td>2</td>\n",
       "      <td>13</td>\n",
       "      <td>1561882795</td>\n",
       "      <td>7</td>\n",
       "      <td>711N</td>\n",
       "      <td>023580_7..N</td>\n",
       "      <td>711</td>\n",
       "      <td>1561882785</td>\n",
       "    </tr>\n",
       "    <tr>\n",
       "      <th>023950_7..S-1561882795</th>\n",
       "      <td>1561882775</td>\n",
       "      <td>2</td>\n",
       "      <td>13</td>\n",
       "      <td>1561882795</td>\n",
       "      <td>7</td>\n",
       "      <td>716S</td>\n",
       "      <td>023950_7..S</td>\n",
       "      <td>716</td>\n",
       "      <td>1561882775</td>\n",
       "    </tr>\n",
       "    <tr>\n",
       "      <th>025685_7..N-1561882795</th>\n",
       "      <td>1561882785</td>\n",
       "      <td>2</td>\n",
       "      <td>2</td>\n",
       "      <td>1561882795</td>\n",
       "      <td>7</td>\n",
       "      <td>724N</td>\n",
       "      <td>025685_7..N</td>\n",
       "      <td>724</td>\n",
       "      <td>1561882785</td>\n",
       "    </tr>\n",
       "    <tr>\n",
       "      <th>026000_7..S-1561882795</th>\n",
       "      <td>1561882800</td>\n",
       "      <td>1</td>\n",
       "      <td>0</td>\n",
       "      <td>1561882795</td>\n",
       "      <td>7</td>\n",
       "      <td>701S</td>\n",
       "      <td>026000_7..S</td>\n",
       "      <td>701</td>\n",
       "      <td>1561882800</td>\n",
       "    </tr>\n",
       "    <tr>\n",
       "      <th>023580_7..N-1561882815</th>\n",
       "      <td>1561882810</td>\n",
       "      <td>2</td>\n",
       "      <td>13</td>\n",
       "      <td>1561882815</td>\n",
       "      <td>7</td>\n",
       "      <td>711N</td>\n",
       "      <td>023580_7..N</td>\n",
       "      <td>711</td>\n",
       "      <td>1561882810</td>\n",
       "    </tr>\n",
       "  </tbody>\n",
       "</table>\n",
       "</div>"
      ],
      "text/plain": [
       "                       arrival_time current_status current_stop_sequence  \\\n",
       "023580_7..N-1561882795   1561882785              2                    13   \n",
       "023950_7..S-1561882795   1561882775              2                    13   \n",
       "025685_7..N-1561882795   1561882785              2                     2   \n",
       "026000_7..S-1561882795   1561882800              1                     0   \n",
       "023580_7..N-1561882815   1561882810              2                    13   \n",
       "\n",
       "                       gtfs_timestamp route_id stop_id      trip_id  \\\n",
       "023580_7..N-1561882795     1561882795        7    711N  023580_7..N   \n",
       "023950_7..S-1561882795     1561882795        7    716S  023950_7..S   \n",
       "025685_7..N-1561882795     1561882795        7    724N  025685_7..N   \n",
       "026000_7..S-1561882795     1561882795        7    701S  026000_7..S   \n",
       "023580_7..N-1561882815     1561882815        7    711N  023580_7..N   \n",
       "\n",
       "                       vehicle_stop_id vehicle_timestamp  \n",
       "023580_7..N-1561882795             711        1561882785  \n",
       "023950_7..S-1561882795             716        1561882775  \n",
       "025685_7..N-1561882795             724        1561882785  \n",
       "026000_7..S-1561882795             701        1561882800  \n",
       "023580_7..N-1561882815             711        1561882810  "
      ]
     },
     "execution_count": 7,
     "metadata": {},
     "output_type": "execute_result"
    }
   ],
   "source": [
    "df = pd.DataFrame.from_dict(dict1).T\n",
    "print(df.shape)\n",
    "df.head()"
   ]
  },
  {
   "cell_type": "markdown",
   "metadata": {},
   "source": [
    "## Drop duplicates"
   ]
  },
  {
   "cell_type": "code",
   "execution_count": null,
   "metadata": {},
   "outputs": [],
   "source": []
  },
  {
   "cell_type": "markdown",
   "metadata": {},
   "source": [
    "## Match the schedules"
   ]
  },
  {
   "cell_type": "code",
   "execution_count": null,
   "metadata": {},
   "outputs": [],
   "source": []
  },
  {
   "cell_type": "markdown",
   "metadata": {},
   "source": [
    "## Calculate delays"
   ]
  },
  {
   "cell_type": "code",
   "execution_count": null,
   "metadata": {},
   "outputs": [],
   "source": []
  }
 ],
 "metadata": {
  "kernelspec": {
   "display_name": "Python 3",
   "language": "python",
   "name": "python3"
  },
  "language_info": {
   "codemirror_mode": {
    "name": "ipython",
    "version": 3
   },
   "file_extension": ".py",
   "mimetype": "text/x-python",
   "name": "python",
   "nbconvert_exporter": "python",
   "pygments_lexer": "ipython3",
   "version": "3.6.8"
  },
  "toc": {
   "base_numbering": 1,
   "nav_menu": {},
   "number_sections": true,
   "sideBar": true,
   "skip_h1_title": false,
   "title_cell": "Table of Contents",
   "title_sidebar": "Contents",
   "toc_cell": false,
   "toc_position": {
    "height": "calc(100% - 180px)",
    "left": "10px",
    "top": "150px",
    "width": "307.2px"
   },
   "toc_section_display": true,
   "toc_window_display": true
  }
 },
 "nbformat": 4,
 "nbformat_minor": 2
}
