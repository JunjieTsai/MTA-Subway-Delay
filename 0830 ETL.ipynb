{
 "cells": [
  {
   "cell_type": "code",
   "execution_count": 1,
   "metadata": {
    "ExecuteTime": {
     "end_time": "2019-08-30T18:30:58.763451Z",
     "start_time": "2019-08-30T18:30:54.912896Z"
    }
   },
   "outputs": [],
   "source": [
    "import pandas as pd\n",
    "import numpy as np\n",
    "import json\n",
    "import requests"
   ]
  },
  {
   "cell_type": "markdown",
   "metadata": {},
   "source": [
    "# real-time data"
   ]
  },
  {
   "cell_type": "markdown",
   "metadata": {},
   "source": [
    "- google gtfs-realtime-bindings: https://developers.google.com/transit/gtfs-realtime/examples/python-sample\n",
    "- gtfs.py: https://pypi.org/project/gtfs.py/\n",
    "- pygtfs: https://pypi.org/project/pygtfs/\n",
    "    https://pygtfs.readthedocs.io/en/latest/"
   ]
  },
  {
   "cell_type": "markdown",
   "metadata": {},
   "source": [
    "- https://www.residentmar.io/2018/01/29/gtfs-tripify.html\n",
    "- https://rstudio-pubs-static.s3.amazonaws.com/368765_99afb255f92341d5932e585a6889b83e.html"
   ]
  },
  {
   "cell_type": "markdown",
   "metadata": {
    "ExecuteTime": {
     "end_time": "2019-08-26T19:48:19.673685Z",
     "start_time": "2019-08-26T19:48:03.281150Z"
    }
   },
   "source": [
    "! pip install --upgrade gtfs-realtime-bindings"
   ]
  },
  {
   "cell_type": "code",
   "execution_count": 17,
   "metadata": {
    "ExecuteTime": {
     "end_time": "2019-08-30T18:31:06.500223Z",
     "start_time": "2019-08-30T18:31:00.809714Z"
    },
    "scrolled": true
   },
   "outputs": [
    {
     "data": {
      "text/plain": [
       "204765"
      ]
     },
     "execution_count": 17,
     "metadata": {},
     "output_type": "execute_result"
    }
   ],
   "source": [
    "from google.transit import gtfs_realtime_pb2\n",
    "import urllib.request\n",
    "\n",
    "# url = 'http://datamine.mta.info/mta_esi.php?key=0a31860d17592bb141b8fe2052e64091&feed_id=26'\n",
    "url = 'https://datamine-history.s3.amazonaws.com/gtfs-2014-09-17-09-31'\n",
    "feed = gtfs_realtime_pb2.FeedMessage()\n",
    "response = urllib.request.urlopen(url)\n",
    "feed.ParseFromString(response.read())"
   ]
  },
  {
   "cell_type": "markdown",
   "metadata": {
    "ExecuteTime": {
     "end_time": "2019-08-29T14:27:30.921859Z",
     "start_time": "2019-08-29T14:27:30.865012Z"
    }
   },
   "source": [
    "for entity in feed.entity:\n",
    "    if entity.HasField('trip_update'):\n",
    "        print(entity.trip_update)"
   ]
  },
  {
   "cell_type": "code",
   "execution_count": 18,
   "metadata": {
    "ExecuteTime": {
     "end_time": "2019-08-30T18:31:06.542074Z",
     "start_time": "2019-08-30T18:31:06.527115Z"
    }
   },
   "outputs": [
    {
     "data": {
      "text/plain": [
       "id: \"000001\"\n",
       "trip_update {\n",
       "  trip {\n",
       "    trip_id: \"050400_1..S02R\"\n",
       "    start_date: \"20140917\"\n",
       "    route_id: \"1\"\n",
       "  }\n",
       "  stop_time_update {\n",
       "    arrival {\n",
       "      time: 1410960713\n",
       "    }\n",
       "    stop_id: \"140S\"\n",
       "  }\n",
       "}"
      ]
     },
     "execution_count": 18,
     "metadata": {},
     "output_type": "execute_result"
    }
   ],
   "source": [
    "feed.entity[0]"
   ]
  },
  {
   "cell_type": "code",
   "execution_count": 19,
   "metadata": {
    "ExecuteTime": {
     "end_time": "2019-08-30T18:31:06.576985Z",
     "start_time": "2019-08-30T18:31:06.554086Z"
    }
   },
   "outputs": [
    {
     "data": {
      "text/plain": [
       "id: \"000002\"\n",
       "vehicle {\n",
       "  trip {\n",
       "    trip_id: \"050400_1..S02R\"\n",
       "    start_date: \"20140917\"\n",
       "    route_id: \"1\"\n",
       "  }\n",
       "  current_stop_sequence: 38\n",
       "  current_status: IN_TRANSIT_TO\n",
       "  timestamp: 1410960574\n",
       "  stop_id: \"140S\"\n",
       "}"
      ]
     },
     "execution_count": 19,
     "metadata": {},
     "output_type": "execute_result"
    }
   ],
   "source": [
    "feed.entity[1]"
   ]
  },
  {
   "cell_type": "markdown",
   "metadata": {
    "ExecuteTime": {
     "end_time": "2019-08-28T19:59:20.356605Z",
     "start_time": "2019-08-28T19:59:20.347637Z"
    }
   },
   "source": [
    "# historical GTFS-realtime"
   ]
  },
  {
   "cell_type": "markdown",
   "metadata": {},
   "source": [
    "- AmazonAWS DATA: https://datamine-history.s3.amazonaws.com/index.html\n",
    "    - http://datamine-history.s3.amazonaws.com/gtfs-2014-09-17.tgz\n",
    "- Read local NTFS: https://stackoverflow.com/questions/38958751/parsing-nyc-transit-mta-historical-gtfs-data-not-realtime?answertab=votes#tab-top\n"
   ]
  },
  {
   "cell_type": "markdown",
   "metadata": {
    "ExecuteTime": {
     "end_time": "2019-08-28T19:47:15.230764Z",
     "start_time": "2019-08-28T19:47:03.490542Z"
    }
   },
   "source": [
    "! pip install pygtfs"
   ]
  },
  {
   "cell_type": "code",
   "execution_count": null,
   "metadata": {},
   "outputs": [],
   "source": [
    "from google.transit import gtfs_realtime_pb2"
   ]
  },
  {
   "cell_type": "markdown",
   "metadata": {},
   "source": [
    "## Integret all gtfs of a single day"
   ]
  },
  {
   "cell_type": "code",
   "execution_count": 40,
   "metadata": {
    "ExecuteTime": {
     "end_time": "2019-08-30T18:32:04.110366Z",
     "start_time": "2019-08-30T18:32:04.093431Z"
    },
    "code_folding": []
   },
   "outputs": [],
   "source": [
    "def parsegtfs(gtfsFilePath):\n",
    "    # This function parsegtfs overwrites the global dictionary named 'dict1'\n",
    "    \n",
    "    # read in gtfs\n",
    "    f = open(gtfsFilePath, 'rb')\n",
    "    raw_str = f.read()\n",
    "    msg = gtfs_realtime_pb2.FeedMessage()\n",
    "    msg.ParseFromString(raw_str)    \n",
    "\n",
    "    # structure gtfs\n",
    "    gtfs_timestamp = msg.header.timestamp\n",
    "    for i,entity in enumerate(msg.entity):\n",
    "        if entity.HasField('trip_update'):\n",
    "            try:\n",
    "                arrival_time = entity.trip_update.stop_time_update[0].arrival.time\n",
    "                stop_id = entity.trip_update.stop_time_update[0].stop_id\n",
    "                trip_id = entity.trip_update.trip.trip_id\n",
    "                route_id = entity.trip_update.trip.route_id\n",
    "\n",
    "                entity2 = msg.entity[i+1]\n",
    "                current_stop_sequence = entity2.vehicle.current_stop_sequence\n",
    "                current_status = entity2.vehicle.current_status\n",
    "                vehicle_timestamp = entity2.vehicle.timestamp\n",
    "                vehicle_stop_id = entity2.vehicle.stop_id       \n",
    "\n",
    "                if current_stop_sequence >= 1:\n",
    "                    try: # update record\n",
    "                        if not gtfs_timestamp <= dict1[trip_id+ '//' + str(current_stop_sequence)]['gtfs_timestamp']:  \n",
    "                            dict1[trip_id+ '//' + str(current_stop_sequence)] = \\\n",
    "                                {'gtfs_timestamp': gtfs_timestamp,\n",
    "                                    'trip_id': trip_id,\n",
    "                                    'arrival_time': arrival_time,\n",
    "                                    'stop_id': stop_id,\n",
    "                                    'route_id': route_id,\n",
    "                                    'current_stop_sequence': current_stop_sequence,\n",
    "                                    'current_status': current_status,\n",
    "                                    'vehicle_timestamp': vehicle_timestamp,\n",
    "                                    'vehicle_stop_id': vehicle_stop_id\n",
    "                                }                    \n",
    "\n",
    "                    except: # add new record\n",
    "                        dict1[trip_id+ '//' + str(current_stop_sequence)] = \\\n",
    "                            {'gtfs_timestamp': gtfs_timestamp,\n",
    "                                'trip_id': trip_id,\n",
    "                                'arrival_time': arrival_time,\n",
    "                                'stop_id': stop_id,\n",
    "                                'route_id': route_id,\n",
    "                                'current_stop_sequence': current_stop_sequence,\n",
    "                                'current_status': current_status,\n",
    "                                'vehicle_timestamp': vehicle_timestamp,\n",
    "                                'vehicle_stop_id': vehicle_stop_id\n",
    "                            }      \n",
    "            except:\n",
    "                continue"
   ]
  },
  {
   "cell_type": "code",
   "execution_count": 42,
   "metadata": {
    "ExecuteTime": {
     "end_time": "2019-08-30T18:36:35.653649Z",
     "start_time": "2019-08-30T18:32:31.516617Z"
    }
   },
   "outputs": [
    {
     "name": "stderr",
     "output_type": "stream",
     "text": [
      "C:\\ProgramData\\Anaconda3\\lib\\site-packages\\ipykernel_launcher.py:8: RuntimeWarning: Unexpected end-group tag: Not all data was converted\n",
      "  \n"
     ]
    },
    {
     "name": "stdout",
     "output_type": "stream",
     "text": [
      "3\n"
     ]
    }
   ],
   "source": [
    "errornum = 0\n",
    "import os\n",
    "year, month, date = '2019', '06', '30'\n",
    "FolderPath = year + month + date\n",
    "gtfsFileNames = os.listdir(FolderPath)\n",
    "dict1 = {}\n",
    "for gtfsFileName in gtfsFileNames:\n",
    "    gtfsFilePath = FolderPath + '/' + gtfsFileName\n",
    "    try:\n",
    "        parsegtfs(gtfsFilePath)\n",
    "    except: # DecodeError: Error parsing message\n",
    "        errornum+=1\n",
    "        continue\n",
    "print(errornum)"
   ]
  },
  {
   "cell_type": "code",
   "execution_count": 70,
   "metadata": {
    "ExecuteTime": {
     "end_time": "2019-08-30T18:49:53.872883Z",
     "start_time": "2019-08-30T18:49:49.652190Z"
    }
   },
   "outputs": [
    {
     "name": "stdout",
     "output_type": "stream",
     "text": [
      "(81039, 12)\n"
     ]
    },
    {
     "data": {
      "text/html": [
       "<div>\n",
       "<style scoped>\n",
       "    .dataframe tbody tr th:only-of-type {\n",
       "        vertical-align: middle;\n",
       "    }\n",
       "\n",
       "    .dataframe tbody tr th {\n",
       "        vertical-align: top;\n",
       "    }\n",
       "\n",
       "    .dataframe thead th {\n",
       "        text-align: right;\n",
       "    }\n",
       "</style>\n",
       "<table border=\"1\" class=\"dataframe\">\n",
       "  <thead>\n",
       "    <tr style=\"text-align: right;\">\n",
       "      <th></th>\n",
       "      <th>arrival_time</th>\n",
       "      <th>current_status</th>\n",
       "      <th>current_stop_sequence</th>\n",
       "      <th>gtfs_timestamp</th>\n",
       "      <th>route_id</th>\n",
       "      <th>stop_id</th>\n",
       "      <th>trip_id</th>\n",
       "      <th>vehicle_stop_id</th>\n",
       "      <th>vehicle_timestamp</th>\n",
       "      <th>weekday</th>\n",
       "      <th>trip_id2</th>\n",
       "      <th>match_id</th>\n",
       "    </tr>\n",
       "  </thead>\n",
       "  <tbody>\n",
       "    <tr>\n",
       "      <th>023580_7..N\\13</th>\n",
       "      <td>2019-06-30 04:20:10</td>\n",
       "      <td>2</td>\n",
       "      <td>13</td>\n",
       "      <td>2019-06-30 04:20:25</td>\n",
       "      <td>7</td>\n",
       "      <td>711N</td>\n",
       "      <td>023580_7..N</td>\n",
       "      <td>711</td>\n",
       "      <td>2019-06-30 04:20:10</td>\n",
       "      <td>Sunday</td>\n",
       "      <td>Sunday-023580_7..N</td>\n",
       "      <td>Sunday-023580_7..N//13</td>\n",
       "    </tr>\n",
       "    <tr>\n",
       "      <th>023950_7..S\\13</th>\n",
       "      <td>2019-06-30 04:21:13</td>\n",
       "      <td>2</td>\n",
       "      <td>13</td>\n",
       "      <td>2019-06-30 04:20:25</td>\n",
       "      <td>7</td>\n",
       "      <td>718S</td>\n",
       "      <td>023950_7..S</td>\n",
       "      <td>716</td>\n",
       "      <td>1969-12-31 19:00:00</td>\n",
       "      <td>Sunday</td>\n",
       "      <td>Sunday-023950_7..S</td>\n",
       "      <td>Sunday-023950_7..S//13</td>\n",
       "    </tr>\n",
       "    <tr>\n",
       "      <th>025685_7..N\\2</th>\n",
       "      <td>2019-06-30 04:20:25</td>\n",
       "      <td>2</td>\n",
       "      <td>2</td>\n",
       "      <td>2019-06-30 04:20:45</td>\n",
       "      <td>7</td>\n",
       "      <td>724N</td>\n",
       "      <td>025685_7..N</td>\n",
       "      <td>724</td>\n",
       "      <td>2019-06-30 04:20:25</td>\n",
       "      <td>Sunday</td>\n",
       "      <td>Sunday-025685_7..N</td>\n",
       "      <td>Sunday-025685_7..N//2</td>\n",
       "    </tr>\n",
       "    <tr>\n",
       "      <th>023580_7..N\\14</th>\n",
       "      <td>2019-06-30 04:21:30</td>\n",
       "      <td>2</td>\n",
       "      <td>14</td>\n",
       "      <td>2019-06-30 04:21:45</td>\n",
       "      <td>7</td>\n",
       "      <td>710N</td>\n",
       "      <td>023580_7..N</td>\n",
       "      <td>710</td>\n",
       "      <td>2019-06-30 04:21:30</td>\n",
       "      <td>Sunday</td>\n",
       "      <td>Sunday-023580_7..N</td>\n",
       "      <td>Sunday-023580_7..N//14</td>\n",
       "    </tr>\n",
       "    <tr>\n",
       "      <th>023950_7..S\\14</th>\n",
       "      <td>2019-06-30 04:23:37</td>\n",
       "      <td>2</td>\n",
       "      <td>14</td>\n",
       "      <td>2019-06-30 04:22:45</td>\n",
       "      <td>7</td>\n",
       "      <td>719S</td>\n",
       "      <td>023950_7..S</td>\n",
       "      <td>718</td>\n",
       "      <td>1969-12-31 19:00:00</td>\n",
       "      <td>Sunday</td>\n",
       "      <td>Sunday-023950_7..S</td>\n",
       "      <td>Sunday-023950_7..S//14</td>\n",
       "    </tr>\n",
       "  </tbody>\n",
       "</table>\n",
       "</div>"
      ],
      "text/plain": [
       "                      arrival_time current_status current_stop_sequence  \\\n",
       "023580_7..N\\13 2019-06-30 04:20:10              2                    13   \n",
       "023950_7..S\\13 2019-06-30 04:21:13              2                    13   \n",
       "025685_7..N\\2  2019-06-30 04:20:25              2                     2   \n",
       "023580_7..N\\14 2019-06-30 04:21:30              2                    14   \n",
       "023950_7..S\\14 2019-06-30 04:23:37              2                    14   \n",
       "\n",
       "                    gtfs_timestamp route_id stop_id      trip_id  \\\n",
       "023580_7..N\\13 2019-06-30 04:20:25        7    711N  023580_7..N   \n",
       "023950_7..S\\13 2019-06-30 04:20:25        7    718S  023950_7..S   \n",
       "025685_7..N\\2  2019-06-30 04:20:45        7    724N  025685_7..N   \n",
       "023580_7..N\\14 2019-06-30 04:21:45        7    710N  023580_7..N   \n",
       "023950_7..S\\14 2019-06-30 04:22:45        7    719S  023950_7..S   \n",
       "\n",
       "               vehicle_stop_id   vehicle_timestamp weekday  \\\n",
       "023580_7..N\\13             711 2019-06-30 04:20:10  Sunday   \n",
       "023950_7..S\\13             716 1969-12-31 19:00:00  Sunday   \n",
       "025685_7..N\\2              724 2019-06-30 04:20:25  Sunday   \n",
       "023580_7..N\\14             710 2019-06-30 04:21:30  Sunday   \n",
       "023950_7..S\\14             718 1969-12-31 19:00:00  Sunday   \n",
       "\n",
       "                          trip_id2                match_id  \n",
       "023580_7..N\\13  Sunday-023580_7..N  Sunday-023580_7..N//13  \n",
       "023950_7..S\\13  Sunday-023950_7..S  Sunday-023950_7..S//13  \n",
       "025685_7..N\\2   Sunday-025685_7..N   Sunday-025685_7..N//2  \n",
       "023580_7..N\\14  Sunday-023580_7..N  Sunday-023580_7..N//14  \n",
       "023950_7..S\\14  Sunday-023950_7..S  Sunday-023950_7..S//14  "
      ]
     },
     "execution_count": 70,
     "metadata": {},
     "output_type": "execute_result"
    }
   ],
   "source": [
    "df = pd.DataFrame.from_dict(dict1).T\n",
    "\n",
    "from datetime import datetime\n",
    "df.arrival_time = df.arrival_time.apply(lambda x: datetime.fromtimestamp(x))\n",
    "df.gtfs_timestamp = df.gtfs_timestamp.apply(lambda x: datetime.fromtimestamp(x))\n",
    "df.vehicle_timestamp = df.vehicle_timestamp.apply(lambda x: datetime.fromtimestamp(x))\n",
    "\n",
    "weekday_dict = {0:'Weekday', 1:'Weekday', 2:'Weekday', 3:'Weekday', 4:'Weekday', 5:'Saturday', 6:'Sunday'}\n",
    "df['weekday'] = df.arrival_time.apply(lambda x: weekday_dict[x.weekday()])\n",
    "\n",
    "df['trip_id2'] = df['weekday'] + '-' + df['trip_id']\n",
    "df['match_id'] = df['trip_id2'] + '//' + df['current_stop_sequence'].astype(str)\n",
    "\n",
    "print(df.shape)\n",
    "df.head()"
   ]
  },
  {
   "cell_type": "markdown",
   "metadata": {},
   "source": [
    "## Schedules"
   ]
  },
  {
   "cell_type": "code",
   "execution_count": 108,
   "metadata": {
    "ExecuteTime": {
     "end_time": "2019-08-30T19:19:08.563194Z",
     "start_time": "2019-08-30T19:19:05.848454Z"
    }
   },
   "outputs": [
    {
     "name": "stdout",
     "output_type": "stream",
     "text": [
      "(532330, 10)\n"
     ]
    },
    {
     "data": {
      "text/html": [
       "<div>\n",
       "<style scoped>\n",
       "    .dataframe tbody tr th:only-of-type {\n",
       "        vertical-align: middle;\n",
       "    }\n",
       "\n",
       "    .dataframe tbody tr th {\n",
       "        vertical-align: top;\n",
       "    }\n",
       "\n",
       "    .dataframe thead th {\n",
       "        text-align: right;\n",
       "    }\n",
       "</style>\n",
       "<table border=\"1\" class=\"dataframe\">\n",
       "  <thead>\n",
       "    <tr style=\"text-align: right;\">\n",
       "      <th></th>\n",
       "      <th>trip_id</th>\n",
       "      <th>arrival_time_scheduled</th>\n",
       "      <th>stop_id</th>\n",
       "      <th>stop_sequence</th>\n",
       "      <th>weekday</th>\n",
       "      <th>num_id</th>\n",
       "      <th>direction</th>\n",
       "      <th>route_id</th>\n",
       "      <th>trip_id2</th>\n",
       "      <th>match_id</th>\n",
       "    </tr>\n",
       "  </thead>\n",
       "  <tbody>\n",
       "    <tr>\n",
       "      <th>0</th>\n",
       "      <td>ASP19GEN-1037-Sunday-00_000600_1..S03R</td>\n",
       "      <td>00:06:00</td>\n",
       "      <td>101S</td>\n",
       "      <td>1</td>\n",
       "      <td>Sunday</td>\n",
       "      <td>000600</td>\n",
       "      <td>S</td>\n",
       "      <td>1</td>\n",
       "      <td>Sunday-000600_1..S</td>\n",
       "      <td>Sunday-000600_1..S//1</td>\n",
       "    </tr>\n",
       "    <tr>\n",
       "      <th>1</th>\n",
       "      <td>ASP19GEN-1037-Sunday-00_000600_1..S03R</td>\n",
       "      <td>00:07:30</td>\n",
       "      <td>103S</td>\n",
       "      <td>2</td>\n",
       "      <td>Sunday</td>\n",
       "      <td>000600</td>\n",
       "      <td>S</td>\n",
       "      <td>1</td>\n",
       "      <td>Sunday-000600_1..S</td>\n",
       "      <td>Sunday-000600_1..S//2</td>\n",
       "    </tr>\n",
       "    <tr>\n",
       "      <th>2</th>\n",
       "      <td>ASP19GEN-1037-Sunday-00_000600_1..S03R</td>\n",
       "      <td>00:09:00</td>\n",
       "      <td>104S</td>\n",
       "      <td>3</td>\n",
       "      <td>Sunday</td>\n",
       "      <td>000600</td>\n",
       "      <td>S</td>\n",
       "      <td>1</td>\n",
       "      <td>Sunday-000600_1..S</td>\n",
       "      <td>Sunday-000600_1..S//3</td>\n",
       "    </tr>\n",
       "    <tr>\n",
       "      <th>3</th>\n",
       "      <td>ASP19GEN-1037-Sunday-00_000600_1..S03R</td>\n",
       "      <td>00:10:30</td>\n",
       "      <td>106S</td>\n",
       "      <td>4</td>\n",
       "      <td>Sunday</td>\n",
       "      <td>000600</td>\n",
       "      <td>S</td>\n",
       "      <td>1</td>\n",
       "      <td>Sunday-000600_1..S</td>\n",
       "      <td>Sunday-000600_1..S//4</td>\n",
       "    </tr>\n",
       "    <tr>\n",
       "      <th>4</th>\n",
       "      <td>ASP19GEN-1037-Sunday-00_000600_1..S03R</td>\n",
       "      <td>00:12:00</td>\n",
       "      <td>107S</td>\n",
       "      <td>5</td>\n",
       "      <td>Sunday</td>\n",
       "      <td>000600</td>\n",
       "      <td>S</td>\n",
       "      <td>1</td>\n",
       "      <td>Sunday-000600_1..S</td>\n",
       "      <td>Sunday-000600_1..S//5</td>\n",
       "    </tr>\n",
       "  </tbody>\n",
       "</table>\n",
       "</div>"
      ],
      "text/plain": [
       "                                  trip_id arrival_time_scheduled stop_id  \\\n",
       "0  ASP19GEN-1037-Sunday-00_000600_1..S03R               00:06:00    101S   \n",
       "1  ASP19GEN-1037-Sunday-00_000600_1..S03R               00:07:30    103S   \n",
       "2  ASP19GEN-1037-Sunday-00_000600_1..S03R               00:09:00    104S   \n",
       "3  ASP19GEN-1037-Sunday-00_000600_1..S03R               00:10:30    106S   \n",
       "4  ASP19GEN-1037-Sunday-00_000600_1..S03R               00:12:00    107S   \n",
       "\n",
       "   stop_sequence weekday  num_id direction route_id            trip_id2  \\\n",
       "0              1  Sunday  000600         S        1  Sunday-000600_1..S   \n",
       "1              2  Sunday  000600         S        1  Sunday-000600_1..S   \n",
       "2              3  Sunday  000600         S        1  Sunday-000600_1..S   \n",
       "3              4  Sunday  000600         S        1  Sunday-000600_1..S   \n",
       "4              5  Sunday  000600         S        1  Sunday-000600_1..S   \n",
       "\n",
       "                match_id  \n",
       "0  Sunday-000600_1..S//1  \n",
       "1  Sunday-000600_1..S//2  \n",
       "2  Sunday-000600_1..S//3  \n",
       "3  Sunday-000600_1..S//4  \n",
       "4  Sunday-000600_1..S//5  "
      ]
     },
     "execution_count": 108,
     "metadata": {},
     "output_type": "execute_result"
    }
   ],
   "source": [
    "stop_times = pd.read_csv(\"NYCSubwayGTFS9May2019/stop_times.txt\")\n",
    "\n",
    "stop_times['weekday'] = stop_times.trip_id.apply(lambda x: x.split('-')[-2]) # perfectly extracted\n",
    "stop_times['weekday'] = stop_times['weekday'].apply(lambda x: 'Weekday' if x == 'Wednesday' else x) # L train does not have Weekday！ Only ['Saturday', 'Sunday', 'Wednesday']\n",
    "stop_times['num_id'] = stop_times.trip_id.apply(lambda x: x.split('_')[1]) # perfectly extracted, fixed lenth\n",
    "stop_times['direction'] = stop_times['trip_id'].apply(lambda x: x.split('-')[-1].split('.')[-1][0])\n",
    "stop_times['route_id'] = stop_times['trip_id'].apply(lambda x: x.split('_')[-1].split('.')[0])\n",
    "\n",
    "stop_times['trip_id2'] = stop_times['weekday'] + '-' + stop_times['num_id'] + '_' + stop_times['route_id'] + '..' + stop_times['direction']\n",
    "stop_times['match_id'] = stop_times['trip_id2'] + '//' + stop_times['stop_sequence'].astype(str)\n",
    "\n",
    "stop_times.drop(['departure_time', 'stop_headsign', 'pickup_type', 'drop_off_type', 'shape_dist_traveled'], axis=1, inplace=True)\n",
    "stop_times.rename(columns={'arrival_time':'arrival_time_scheduled'}, inplace=True)\n",
    "\n",
    "# conver timestamp\n",
    "stop_times = stop_times[stop_times.arrival_time_scheduled.apply(lambda x: int(x[:2])<24)] # filter abnormal arrival_time which is greater than 24 hour\n",
    "stop_times.arrival_time_scheduled = pd.to_datetime(stop_times.arrival_time_scheduled.apply(lambda x: year + '-' + month + '-' + date + '-' + x))\n",
    "\n",
    "print(stop_times.shape)\n",
    "stop_times.head()"
   ]
  },
  {
   "cell_type": "code",
   "execution_count": 239,
   "metadata": {
    "ExecuteTime": {
     "end_time": "2019-08-30T16:56:17.801204Z",
     "start_time": "2019-08-30T16:56:17.746389Z"
    }
   },
   "outputs": [
    {
     "name": "stdout",
     "output_type": "stream",
     "text": [
      "['Sunday' 'Saturday' 'Weekday']\n",
      "['S' 'N']\n",
      "['1' '2' '3' '4' '5' '6' '7' 'GS' 'A' 'B' 'C' 'D' 'E' 'F' 'FS' 'H' 'J' 'M'\n",
      " 'N' 'Q' 'R' 'G' 'L' 'SI']\n"
     ]
    }
   ],
   "source": [
    "# extracted data check\n",
    "print(stop_times['weekday'].unique())\n",
    "print(stop_times['direction'].unique())\n",
    "print(stop_times['route_id'].unique())"
   ]
  },
  {
   "cell_type": "code",
   "execution_count": 247,
   "metadata": {
    "ExecuteTime": {
     "end_time": "2019-08-30T18:11:26.924499Z",
     "start_time": "2019-08-30T18:11:26.689124Z"
    }
   },
   "outputs": [
    {
     "name": "stdout",
     "output_type": "stream",
     "text": [
      "All 19842\n",
      "Sunday 5403\n",
      "Saturday 5995\n",
      "Weekday 7940\n"
     ]
    }
   ],
   "source": [
    "# unique trip_id for weekday\n",
    "print('All', len(stop_times.trip_id.unique()))\n",
    "for i in stop_times['weekday'].unique():\n",
    "    print(i, len(set(filter(lambda x: i in x, stop_times.trip_id))))"
   ]
  },
  {
   "cell_type": "code",
   "execution_count": 241,
   "metadata": {
    "ExecuteTime": {
     "end_time": "2019-08-30T16:56:46.493171Z",
     "start_time": "2019-08-30T16:56:46.489185Z"
    }
   },
   "outputs": [
    {
     "data": {
      "text/plain": [
       "0.6840644086618545"
      ]
     },
     "execution_count": 241,
     "metadata": {},
     "output_type": "execute_result"
    }
   ],
   "source": [
    "# Sample rate\n",
    "# It is expected to be 1 after adding the A-Division (Numeric trains)\n",
    "3696/5403"
   ]
  },
  {
   "cell_type": "markdown",
   "metadata": {},
   "source": [
    "## Match schedule"
   ]
  },
  {
   "cell_type": "code",
   "execution_count": 77,
   "metadata": {
    "ExecuteTime": {
     "end_time": "2019-08-30T18:53:08.418300Z",
     "start_time": "2019-08-30T18:53:08.355468Z"
    }
   },
   "outputs": [
    {
     "name": "stdout",
     "output_type": "stream",
     "text": [
      "3724\n",
      "1095\n",
      "match rate: 0.29403866809881846\n"
     ]
    }
   ],
   "source": [
    "print(len(set(df.trip_id2)))\n",
    "print(len(set(stop_times.trip_id2).intersection(set(df.trip_id2))))\n",
    "print('match rate:', len(set(stop_times.trip_id2).intersection(set(df.trip_id2)))/len(set(df.trip_id2)))"
   ]
  },
  {
   "cell_type": "code",
   "execution_count": 137,
   "metadata": {
    "ExecuteTime": {
     "end_time": "2019-08-30T19:36:53.160427Z",
     "start_time": "2019-08-30T19:36:52.751521Z"
    },
    "scrolled": true
   },
   "outputs": [
    {
     "name": "stdout",
     "output_type": "stream",
     "text": [
      "(19325, 14)\n"
     ]
    },
    {
     "data": {
      "text/html": [
       "<div>\n",
       "<style scoped>\n",
       "    .dataframe tbody tr th:only-of-type {\n",
       "        vertical-align: middle;\n",
       "    }\n",
       "\n",
       "    .dataframe tbody tr th {\n",
       "        vertical-align: top;\n",
       "    }\n",
       "\n",
       "    .dataframe thead th {\n",
       "        text-align: right;\n",
       "    }\n",
       "</style>\n",
       "<table border=\"1\" class=\"dataframe\">\n",
       "  <thead>\n",
       "    <tr style=\"text-align: right;\">\n",
       "      <th></th>\n",
       "      <th>arrival_time</th>\n",
       "      <th>current_status</th>\n",
       "      <th>current_stop_sequence</th>\n",
       "      <th>gtfs_timestamp</th>\n",
       "      <th>route_id</th>\n",
       "      <th>stop_id</th>\n",
       "      <th>trip_id</th>\n",
       "      <th>vehicle_stop_id</th>\n",
       "      <th>vehicle_timestamp</th>\n",
       "      <th>weekday</th>\n",
       "      <th>trip_id2</th>\n",
       "      <th>match_id</th>\n",
       "      <th>arrival_time_scheduled</th>\n",
       "      <th>delay</th>\n",
       "    </tr>\n",
       "  </thead>\n",
       "  <tbody>\n",
       "    <tr>\n",
       "      <th>0</th>\n",
       "      <td>2019-06-30 04:24:25</td>\n",
       "      <td>2</td>\n",
       "      <td>1</td>\n",
       "      <td>2019-06-30 04:23:32</td>\n",
       "      <td>7</td>\n",
       "      <td>705S</td>\n",
       "      <td>026000_7..S</td>\n",
       "      <td>702</td>\n",
       "      <td>1969-12-31 19:00:00</td>\n",
       "      <td>Sunday</td>\n",
       "      <td>Sunday-026000_7..S</td>\n",
       "      <td>Sunday-026000_7..S//1</td>\n",
       "      <td>2019-06-30 04:20:00</td>\n",
       "      <td>265.0</td>\n",
       "    </tr>\n",
       "    <tr>\n",
       "      <th>1</th>\n",
       "      <td>2019-06-30 04:24:35</td>\n",
       "      <td>2</td>\n",
       "      <td>2</td>\n",
       "      <td>2019-06-30 04:24:45</td>\n",
       "      <td>7</td>\n",
       "      <td>705S</td>\n",
       "      <td>026000_7..S</td>\n",
       "      <td>705</td>\n",
       "      <td>2019-06-30 04:24:35</td>\n",
       "      <td>Sunday</td>\n",
       "      <td>Sunday-026000_7..S</td>\n",
       "      <td>Sunday-026000_7..S//2</td>\n",
       "      <td>2019-06-30 04:22:30</td>\n",
       "      <td>125.0</td>\n",
       "    </tr>\n",
       "    <tr>\n",
       "      <th>2</th>\n",
       "      <td>2019-06-30 04:25:50</td>\n",
       "      <td>2</td>\n",
       "      <td>3</td>\n",
       "      <td>2019-06-30 04:26:03</td>\n",
       "      <td>7</td>\n",
       "      <td>706S</td>\n",
       "      <td>026000_7..S</td>\n",
       "      <td>706</td>\n",
       "      <td>2019-06-30 04:25:50</td>\n",
       "      <td>Sunday</td>\n",
       "      <td>Sunday-026000_7..S</td>\n",
       "      <td>Sunday-026000_7..S//3</td>\n",
       "      <td>2019-06-30 04:24:00</td>\n",
       "      <td>110.0</td>\n",
       "    </tr>\n",
       "    <tr>\n",
       "      <th>3</th>\n",
       "      <td>2019-06-30 04:28:37</td>\n",
       "      <td>2</td>\n",
       "      <td>4</td>\n",
       "      <td>2019-06-30 04:27:45</td>\n",
       "      <td>7</td>\n",
       "      <td>708S</td>\n",
       "      <td>026000_7..S</td>\n",
       "      <td>707</td>\n",
       "      <td>1969-12-31 19:00:00</td>\n",
       "      <td>Sunday</td>\n",
       "      <td>Sunday-026000_7..S</td>\n",
       "      <td>Sunday-026000_7..S//4</td>\n",
       "      <td>2019-06-30 04:25:00</td>\n",
       "      <td>217.0</td>\n",
       "    </tr>\n",
       "    <tr>\n",
       "      <th>4</th>\n",
       "      <td>2019-06-30 04:28:40</td>\n",
       "      <td>2</td>\n",
       "      <td>5</td>\n",
       "      <td>2019-06-30 04:29:05</td>\n",
       "      <td>7</td>\n",
       "      <td>708S</td>\n",
       "      <td>026000_7..S</td>\n",
       "      <td>708</td>\n",
       "      <td>2019-06-30 04:28:40</td>\n",
       "      <td>Sunday</td>\n",
       "      <td>Sunday-026000_7..S</td>\n",
       "      <td>Sunday-026000_7..S//5</td>\n",
       "      <td>2019-06-30 04:26:00</td>\n",
       "      <td>160.0</td>\n",
       "    </tr>\n",
       "  </tbody>\n",
       "</table>\n",
       "</div>"
      ],
      "text/plain": [
       "         arrival_time current_status current_stop_sequence  \\\n",
       "0 2019-06-30 04:24:25              2                     1   \n",
       "1 2019-06-30 04:24:35              2                     2   \n",
       "2 2019-06-30 04:25:50              2                     3   \n",
       "3 2019-06-30 04:28:37              2                     4   \n",
       "4 2019-06-30 04:28:40              2                     5   \n",
       "\n",
       "       gtfs_timestamp route_id stop_id      trip_id vehicle_stop_id  \\\n",
       "0 2019-06-30 04:23:32        7    705S  026000_7..S             702   \n",
       "1 2019-06-30 04:24:45        7    705S  026000_7..S             705   \n",
       "2 2019-06-30 04:26:03        7    706S  026000_7..S             706   \n",
       "3 2019-06-30 04:27:45        7    708S  026000_7..S             707   \n",
       "4 2019-06-30 04:29:05        7    708S  026000_7..S             708   \n",
       "\n",
       "    vehicle_timestamp weekday            trip_id2               match_id  \\\n",
       "0 1969-12-31 19:00:00  Sunday  Sunday-026000_7..S  Sunday-026000_7..S//1   \n",
       "1 2019-06-30 04:24:35  Sunday  Sunday-026000_7..S  Sunday-026000_7..S//2   \n",
       "2 2019-06-30 04:25:50  Sunday  Sunday-026000_7..S  Sunday-026000_7..S//3   \n",
       "3 1969-12-31 19:00:00  Sunday  Sunday-026000_7..S  Sunday-026000_7..S//4   \n",
       "4 2019-06-30 04:28:40  Sunday  Sunday-026000_7..S  Sunday-026000_7..S//5   \n",
       "\n",
       "  arrival_time_scheduled  delay  \n",
       "0    2019-06-30 04:20:00  265.0  \n",
       "1    2019-06-30 04:22:30  125.0  \n",
       "2    2019-06-30 04:24:00  110.0  \n",
       "3    2019-06-30 04:25:00  217.0  \n",
       "4    2019-06-30 04:26:00  160.0  "
      ]
     },
     "execution_count": 137,
     "metadata": {},
     "output_type": "execute_result"
    }
   ],
   "source": [
    "df_match = pd.merge(df, stop_times[['arrival_time_scheduled', 'match_id']], on='match_id', how='inner')\n",
    "df_match['delay'] = (df_match['arrival_time'] - df_match['arrival_time_scheduled']).apply(lambda x: x.total_seconds())\n",
    "\n",
    "print(df_match.shape)\n",
    "df_match.head()"
   ]
  },
  {
   "cell_type": "markdown",
   "metadata": {},
   "source": [
    "## Analysis"
   ]
  },
  {
   "cell_type": "markdown",
   "metadata": {},
   "source": [
    "### Average delay for all trains for all stations"
   ]
  },
  {
   "cell_type": "code",
   "execution_count": 139,
   "metadata": {
    "ExecuteTime": {
     "end_time": "2019-08-30T19:37:35.884768Z",
     "start_time": "2019-08-30T19:37:35.879782Z"
    }
   },
   "outputs": [
    {
     "data": {
      "text/plain": [
       "346.2032082794308"
      ]
     },
     "execution_count": 139,
     "metadata": {},
     "output_type": "execute_result"
    }
   ],
   "source": [
    "df_match.delay.mean()"
   ]
  },
  {
   "cell_type": "markdown",
   "metadata": {},
   "source": [
    "### Standard deviation of delays for all trains for all stations"
   ]
  },
  {
   "cell_type": "code",
   "execution_count": 146,
   "metadata": {
    "ExecuteTime": {
     "end_time": "2019-08-30T19:50:05.190781Z",
     "start_time": "2019-08-30T19:50:05.184824Z"
    }
   },
   "outputs": [
    {
     "data": {
      "text/plain": [
       "414.9981425765837"
      ]
     },
     "execution_count": 146,
     "metadata": {},
     "output_type": "execute_result"
    }
   ],
   "source": [
    "df_match.delay.std()"
   ]
  },
  {
   "cell_type": "markdown",
   "metadata": {},
   "source": [
    "### Delays for every route"
   ]
  },
  {
   "cell_type": "code",
   "execution_count": 140,
   "metadata": {
    "ExecuteTime": {
     "end_time": "2019-08-30T19:38:09.342664Z",
     "start_time": "2019-08-30T19:38:09.318666Z"
    }
   },
   "outputs": [
    {
     "data": {
      "text/html": [
       "<div>\n",
       "<style scoped>\n",
       "    .dataframe tbody tr th:only-of-type {\n",
       "        vertical-align: middle;\n",
       "    }\n",
       "\n",
       "    .dataframe tbody tr th {\n",
       "        vertical-align: top;\n",
       "    }\n",
       "\n",
       "    .dataframe thead th {\n",
       "        text-align: right;\n",
       "    }\n",
       "</style>\n",
       "<table border=\"1\" class=\"dataframe\">\n",
       "  <thead>\n",
       "    <tr style=\"text-align: right;\">\n",
       "      <th></th>\n",
       "      <th>delay</th>\n",
       "    </tr>\n",
       "    <tr>\n",
       "      <th>route_id</th>\n",
       "      <th></th>\n",
       "    </tr>\n",
       "  </thead>\n",
       "  <tbody>\n",
       "    <tr>\n",
       "      <th>7</th>\n",
       "      <td>196.759362</td>\n",
       "    </tr>\n",
       "    <tr>\n",
       "      <th>A</th>\n",
       "      <td>432.565584</td>\n",
       "    </tr>\n",
       "    <tr>\n",
       "      <th>C</th>\n",
       "      <td>332.394175</td>\n",
       "    </tr>\n",
       "    <tr>\n",
       "      <th>D</th>\n",
       "      <td>272.450249</td>\n",
       "    </tr>\n",
       "    <tr>\n",
       "      <th>E</th>\n",
       "      <td>725.615303</td>\n",
       "    </tr>\n",
       "    <tr>\n",
       "      <th>F</th>\n",
       "      <td>721.924986</td>\n",
       "    </tr>\n",
       "    <tr>\n",
       "      <th>FS</th>\n",
       "      <td>226.400891</td>\n",
       "    </tr>\n",
       "    <tr>\n",
       "      <th>G</th>\n",
       "      <td>242.185491</td>\n",
       "    </tr>\n",
       "    <tr>\n",
       "      <th>H</th>\n",
       "      <td>275.418182</td>\n",
       "    </tr>\n",
       "    <tr>\n",
       "      <th>J</th>\n",
       "      <td>184.661775</td>\n",
       "    </tr>\n",
       "    <tr>\n",
       "      <th>L</th>\n",
       "      <td>-93.871622</td>\n",
       "    </tr>\n",
       "    <tr>\n",
       "      <th>M</th>\n",
       "      <td>165.176000</td>\n",
       "    </tr>\n",
       "    <tr>\n",
       "      <th>N</th>\n",
       "      <td>259.644654</td>\n",
       "    </tr>\n",
       "    <tr>\n",
       "      <th>Q</th>\n",
       "      <td>377.422843</td>\n",
       "    </tr>\n",
       "    <tr>\n",
       "      <th>R</th>\n",
       "      <td>254.811475</td>\n",
       "    </tr>\n",
       "  </tbody>\n",
       "</table>\n",
       "</div>"
      ],
      "text/plain": [
       "               delay\n",
       "route_id            \n",
       "7         196.759362\n",
       "A         432.565584\n",
       "C         332.394175\n",
       "D         272.450249\n",
       "E         725.615303\n",
       "F         721.924986\n",
       "FS        226.400891\n",
       "G         242.185491\n",
       "H         275.418182\n",
       "J         184.661775\n",
       "L         -93.871622\n",
       "M         165.176000\n",
       "N         259.644654\n",
       "Q         377.422843\n",
       "R         254.811475"
      ]
     },
     "execution_count": 140,
     "metadata": {},
     "output_type": "execute_result"
    }
   ],
   "source": [
    "df_match.groupby('route_id').mean()"
   ]
  },
  {
   "cell_type": "markdown",
   "metadata": {},
   "source": [
    "### Delays for every station\n"
   ]
  },
  {
   "cell_type": "code",
   "execution_count": 145,
   "metadata": {
    "ExecuteTime": {
     "end_time": "2019-08-30T19:41:18.055832Z",
     "start_time": "2019-08-30T19:41:18.023889Z"
    },
    "scrolled": true
   },
   "outputs": [
    {
     "data": {
      "text/html": [
       "<div>\n",
       "<style scoped>\n",
       "    .dataframe tbody tr th:only-of-type {\n",
       "        vertical-align: middle;\n",
       "    }\n",
       "\n",
       "    .dataframe tbody tr th {\n",
       "        vertical-align: top;\n",
       "    }\n",
       "\n",
       "    .dataframe thead th {\n",
       "        text-align: right;\n",
       "    }\n",
       "</style>\n",
       "<table border=\"1\" class=\"dataframe\">\n",
       "  <thead>\n",
       "    <tr style=\"text-align: right;\">\n",
       "      <th></th>\n",
       "      <th>delay</th>\n",
       "      <th>stop_id</th>\n",
       "      <th>stop_name</th>\n",
       "      <th>stop_lat</th>\n",
       "      <th>stop_lon</th>\n",
       "    </tr>\n",
       "  </thead>\n",
       "  <tbody>\n",
       "    <tr>\n",
       "      <th>0</th>\n",
       "      <td>-93.871622</td>\n",
       "      <td>NaN</td>\n",
       "      <td>NaN</td>\n",
       "      <td>NaN</td>\n",
       "      <td>NaN</td>\n",
       "    </tr>\n",
       "    <tr>\n",
       "      <th>1</th>\n",
       "      <td>264.068182</td>\n",
       "      <td>701</td>\n",
       "      <td>Flushing - Main St</td>\n",
       "      <td>40.759600</td>\n",
       "      <td>-73.830030</td>\n",
       "    </tr>\n",
       "    <tr>\n",
       "      <th>2</th>\n",
       "      <td>401.822222</td>\n",
       "      <td>702</td>\n",
       "      <td>Mets - Willets Point</td>\n",
       "      <td>40.754622</td>\n",
       "      <td>-73.845625</td>\n",
       "    </tr>\n",
       "    <tr>\n",
       "      <th>3</th>\n",
       "      <td>304.583333</td>\n",
       "      <td>705</td>\n",
       "      <td>111 St</td>\n",
       "      <td>40.751730</td>\n",
       "      <td>-73.855334</td>\n",
       "    </tr>\n",
       "    <tr>\n",
       "      <th>4</th>\n",
       "      <td>127.700000</td>\n",
       "      <td>706</td>\n",
       "      <td>103 St - Corona Plaza</td>\n",
       "      <td>40.749865</td>\n",
       "      <td>-73.862700</td>\n",
       "    </tr>\n",
       "    <tr>\n",
       "      <th>5</th>\n",
       "      <td>140.405063</td>\n",
       "      <td>707</td>\n",
       "      <td>Junction Blvd</td>\n",
       "      <td>40.749145</td>\n",
       "      <td>-73.869527</td>\n",
       "    </tr>\n",
       "    <tr>\n",
       "      <th>6</th>\n",
       "      <td>134.897436</td>\n",
       "      <td>708</td>\n",
       "      <td>90 St - Elmhurst Av</td>\n",
       "      <td>40.748408</td>\n",
       "      <td>-73.876613</td>\n",
       "    </tr>\n",
       "    <tr>\n",
       "      <th>7</th>\n",
       "      <td>106.371795</td>\n",
       "      <td>709</td>\n",
       "      <td>82 St - Jackson Hts</td>\n",
       "      <td>40.747659</td>\n",
       "      <td>-73.883697</td>\n",
       "    </tr>\n",
       "    <tr>\n",
       "      <th>8</th>\n",
       "      <td>118.038462</td>\n",
       "      <td>710</td>\n",
       "      <td>74 St - Broadway</td>\n",
       "      <td>40.746848</td>\n",
       "      <td>-73.891394</td>\n",
       "    </tr>\n",
       "    <tr>\n",
       "      <th>9</th>\n",
       "      <td>136.320513</td>\n",
       "      <td>711</td>\n",
       "      <td>69 St</td>\n",
       "      <td>40.746325</td>\n",
       "      <td>-73.896403</td>\n",
       "    </tr>\n",
       "    <tr>\n",
       "      <th>10</th>\n",
       "      <td>178.833333</td>\n",
       "      <td>712</td>\n",
       "      <td>Woodside - 61 St</td>\n",
       "      <td>40.745630</td>\n",
       "      <td>-73.902984</td>\n",
       "    </tr>\n",
       "    <tr>\n",
       "      <th>11</th>\n",
       "      <td>194.298701</td>\n",
       "      <td>713</td>\n",
       "      <td>52 St</td>\n",
       "      <td>40.744149</td>\n",
       "      <td>-73.912549</td>\n",
       "    </tr>\n",
       "    <tr>\n",
       "      <th>12</th>\n",
       "      <td>111.974026</td>\n",
       "      <td>714</td>\n",
       "      <td>46 St</td>\n",
       "      <td>40.743132</td>\n",
       "      <td>-73.918435</td>\n",
       "    </tr>\n",
       "    <tr>\n",
       "      <th>13</th>\n",
       "      <td>113.116883</td>\n",
       "      <td>715</td>\n",
       "      <td>40 St</td>\n",
       "      <td>40.743781</td>\n",
       "      <td>-73.924016</td>\n",
       "    </tr>\n",
       "    <tr>\n",
       "      <th>14</th>\n",
       "      <td>180.337662</td>\n",
       "      <td>716</td>\n",
       "      <td>33 St</td>\n",
       "      <td>40.744587</td>\n",
       "      <td>-73.930997</td>\n",
       "    </tr>\n",
       "    <tr>\n",
       "      <th>15</th>\n",
       "      <td>249.753247</td>\n",
       "      <td>718</td>\n",
       "      <td>Queensboro Plaza</td>\n",
       "      <td>40.750582</td>\n",
       "      <td>-73.940202</td>\n",
       "    </tr>\n",
       "    <tr>\n",
       "      <th>16</th>\n",
       "      <td>249.605263</td>\n",
       "      <td>719</td>\n",
       "      <td>Court Sq</td>\n",
       "      <td>40.747023</td>\n",
       "      <td>-73.945264</td>\n",
       "    </tr>\n",
       "    <tr>\n",
       "      <th>17</th>\n",
       "      <td>160.896104</td>\n",
       "      <td>720</td>\n",
       "      <td>Hunters Point Av</td>\n",
       "      <td>40.742216</td>\n",
       "      <td>-73.948916</td>\n",
       "    </tr>\n",
       "    <tr>\n",
       "      <th>18</th>\n",
       "      <td>264.987013</td>\n",
       "      <td>721</td>\n",
       "      <td>Vernon Blvd - Jackson Av</td>\n",
       "      <td>40.742626</td>\n",
       "      <td>-73.953581</td>\n",
       "    </tr>\n",
       "    <tr>\n",
       "      <th>19</th>\n",
       "      <td>328.880000</td>\n",
       "      <td>723</td>\n",
       "      <td>Grand Central - 42 St</td>\n",
       "      <td>40.751431</td>\n",
       "      <td>-73.976041</td>\n",
       "    </tr>\n",
       "    <tr>\n",
       "      <th>20</th>\n",
       "      <td>124.740260</td>\n",
       "      <td>724</td>\n",
       "      <td>5 Av</td>\n",
       "      <td>40.753821</td>\n",
       "      <td>-73.981963</td>\n",
       "    </tr>\n",
       "    <tr>\n",
       "      <th>21</th>\n",
       "      <td>225.190476</td>\n",
       "      <td>725</td>\n",
       "      <td>Times Sq - 42 St</td>\n",
       "      <td>40.755477</td>\n",
       "      <td>-73.987691</td>\n",
       "    </tr>\n",
       "    <tr>\n",
       "      <th>22</th>\n",
       "      <td>261.545455</td>\n",
       "      <td>726</td>\n",
       "      <td>34 St - 11 Av</td>\n",
       "      <td>40.755882</td>\n",
       "      <td>-74.001910</td>\n",
       "    </tr>\n",
       "    <tr>\n",
       "      <th>23</th>\n",
       "      <td>423.358974</td>\n",
       "      <td>A02</td>\n",
       "      <td>Inwood - 207 St</td>\n",
       "      <td>40.868072</td>\n",
       "      <td>-73.919899</td>\n",
       "    </tr>\n",
       "    <tr>\n",
       "      <th>24</th>\n",
       "      <td>297.676471</td>\n",
       "      <td>A03</td>\n",
       "      <td>Dyckman St</td>\n",
       "      <td>40.865491</td>\n",
       "      <td>-73.927271</td>\n",
       "    </tr>\n",
       "    <tr>\n",
       "      <th>25</th>\n",
       "      <td>315.602041</td>\n",
       "      <td>A05</td>\n",
       "      <td>190 St</td>\n",
       "      <td>40.859022</td>\n",
       "      <td>-73.934180</td>\n",
       "    </tr>\n",
       "    <tr>\n",
       "      <th>26</th>\n",
       "      <td>264.525773</td>\n",
       "      <td>A06</td>\n",
       "      <td>181 St</td>\n",
       "      <td>40.851695</td>\n",
       "      <td>-73.937969</td>\n",
       "    </tr>\n",
       "    <tr>\n",
       "      <th>27</th>\n",
       "      <td>361.628866</td>\n",
       "      <td>A07</td>\n",
       "      <td>175 St</td>\n",
       "      <td>40.847391</td>\n",
       "      <td>-73.939704</td>\n",
       "    </tr>\n",
       "    <tr>\n",
       "      <th>28</th>\n",
       "      <td>484.372549</td>\n",
       "      <td>A09</td>\n",
       "      <td>168 St</td>\n",
       "      <td>40.840719</td>\n",
       "      <td>-73.939561</td>\n",
       "    </tr>\n",
       "    <tr>\n",
       "      <th>29</th>\n",
       "      <td>216.807692</td>\n",
       "      <td>A10</td>\n",
       "      <td>163 St - Amsterdam Av</td>\n",
       "      <td>40.836013</td>\n",
       "      <td>-73.939892</td>\n",
       "    </tr>\n",
       "    <tr>\n",
       "      <th>...</th>\n",
       "      <td>...</td>\n",
       "      <td>...</td>\n",
       "      <td>...</td>\n",
       "      <td>...</td>\n",
       "      <td>...</td>\n",
       "    </tr>\n",
       "    <tr>\n",
       "      <th>271</th>\n",
       "      <td>196.736111</td>\n",
       "      <td>R19</td>\n",
       "      <td>23 St</td>\n",
       "      <td>40.741303</td>\n",
       "      <td>-73.989344</td>\n",
       "    </tr>\n",
       "    <tr>\n",
       "      <th>272</th>\n",
       "      <td>575.303571</td>\n",
       "      <td>R20</td>\n",
       "      <td>14 St - Union Sq</td>\n",
       "      <td>40.735736</td>\n",
       "      <td>-73.990568</td>\n",
       "    </tr>\n",
       "    <tr>\n",
       "      <th>273</th>\n",
       "      <td>209.236111</td>\n",
       "      <td>R21</td>\n",
       "      <td>8 St - NYU</td>\n",
       "      <td>40.730328</td>\n",
       "      <td>-73.992629</td>\n",
       "    </tr>\n",
       "    <tr>\n",
       "      <th>274</th>\n",
       "      <td>225.070423</td>\n",
       "      <td>R22</td>\n",
       "      <td>Prince St</td>\n",
       "      <td>40.724329</td>\n",
       "      <td>-73.997702</td>\n",
       "    </tr>\n",
       "    <tr>\n",
       "      <th>275</th>\n",
       "      <td>294.571429</td>\n",
       "      <td>R23</td>\n",
       "      <td>Canal St</td>\n",
       "      <td>40.719527</td>\n",
       "      <td>-74.001775</td>\n",
       "    </tr>\n",
       "    <tr>\n",
       "      <th>276</th>\n",
       "      <td>345.508772</td>\n",
       "      <td>R24</td>\n",
       "      <td>City Hall</td>\n",
       "      <td>40.713282</td>\n",
       "      <td>-74.006978</td>\n",
       "    </tr>\n",
       "    <tr>\n",
       "      <th>277</th>\n",
       "      <td>232.068966</td>\n",
       "      <td>R25</td>\n",
       "      <td>Cortlandt St</td>\n",
       "      <td>40.710668</td>\n",
       "      <td>-74.011029</td>\n",
       "    </tr>\n",
       "    <tr>\n",
       "      <th>278</th>\n",
       "      <td>212.232143</td>\n",
       "      <td>R26</td>\n",
       "      <td>Rector St</td>\n",
       "      <td>40.707220</td>\n",
       "      <td>-74.013342</td>\n",
       "    </tr>\n",
       "    <tr>\n",
       "      <th>279</th>\n",
       "      <td>251.775862</td>\n",
       "      <td>R27</td>\n",
       "      <td>Whitehall St</td>\n",
       "      <td>40.703087</td>\n",
       "      <td>-74.012994</td>\n",
       "    </tr>\n",
       "    <tr>\n",
       "      <th>280</th>\n",
       "      <td>398.190476</td>\n",
       "      <td>R28</td>\n",
       "      <td>Court St</td>\n",
       "      <td>40.694100</td>\n",
       "      <td>-73.991777</td>\n",
       "    </tr>\n",
       "    <tr>\n",
       "      <th>281</th>\n",
       "      <td>281.062500</td>\n",
       "      <td>R29</td>\n",
       "      <td>Jay St - MetroTech</td>\n",
       "      <td>40.692180</td>\n",
       "      <td>-73.985942</td>\n",
       "    </tr>\n",
       "    <tr>\n",
       "      <th>282</th>\n",
       "      <td>688.670659</td>\n",
       "      <td>R30</td>\n",
       "      <td>DeKalb Av</td>\n",
       "      <td>40.690635</td>\n",
       "      <td>-73.981824</td>\n",
       "    </tr>\n",
       "    <tr>\n",
       "      <th>283</th>\n",
       "      <td>520.421053</td>\n",
       "      <td>R31</td>\n",
       "      <td>Atlantic Av - Barclays Ctr</td>\n",
       "      <td>40.683666</td>\n",
       "      <td>-73.978810</td>\n",
       "    </tr>\n",
       "    <tr>\n",
       "      <th>284</th>\n",
       "      <td>297.066667</td>\n",
       "      <td>R32</td>\n",
       "      <td>Union St</td>\n",
       "      <td>40.677316</td>\n",
       "      <td>-73.983110</td>\n",
       "    </tr>\n",
       "    <tr>\n",
       "      <th>285</th>\n",
       "      <td>333.333333</td>\n",
       "      <td>R33</td>\n",
       "      <td>9 St</td>\n",
       "      <td>40.670847</td>\n",
       "      <td>-73.988302</td>\n",
       "    </tr>\n",
       "    <tr>\n",
       "      <th>286</th>\n",
       "      <td>291.933333</td>\n",
       "      <td>R34</td>\n",
       "      <td>Prospect Av</td>\n",
       "      <td>40.665414</td>\n",
       "      <td>-73.992872</td>\n",
       "    </tr>\n",
       "    <tr>\n",
       "      <th>287</th>\n",
       "      <td>266.950000</td>\n",
       "      <td>R35</td>\n",
       "      <td>25 St</td>\n",
       "      <td>40.660397</td>\n",
       "      <td>-73.998091</td>\n",
       "    </tr>\n",
       "    <tr>\n",
       "      <th>288</th>\n",
       "      <td>398.871795</td>\n",
       "      <td>R36</td>\n",
       "      <td>36 St</td>\n",
       "      <td>40.655144</td>\n",
       "      <td>-74.003549</td>\n",
       "    </tr>\n",
       "    <tr>\n",
       "      <th>289</th>\n",
       "      <td>354.583333</td>\n",
       "      <td>R39</td>\n",
       "      <td>45 St</td>\n",
       "      <td>40.648939</td>\n",
       "      <td>-74.010006</td>\n",
       "    </tr>\n",
       "    <tr>\n",
       "      <th>290</th>\n",
       "      <td>256.509091</td>\n",
       "      <td>R40</td>\n",
       "      <td>53 St</td>\n",
       "      <td>40.645069</td>\n",
       "      <td>-74.014034</td>\n",
       "    </tr>\n",
       "    <tr>\n",
       "      <th>291</th>\n",
       "      <td>270.474576</td>\n",
       "      <td>R41</td>\n",
       "      <td>59 St</td>\n",
       "      <td>40.641362</td>\n",
       "      <td>-74.017881</td>\n",
       "    </tr>\n",
       "    <tr>\n",
       "      <th>292</th>\n",
       "      <td>222.947368</td>\n",
       "      <td>R42</td>\n",
       "      <td>Bay Ridge Av</td>\n",
       "      <td>40.634967</td>\n",
       "      <td>-74.023377</td>\n",
       "    </tr>\n",
       "    <tr>\n",
       "      <th>293</th>\n",
       "      <td>176.107143</td>\n",
       "      <td>R43</td>\n",
       "      <td>77 St</td>\n",
       "      <td>40.629742</td>\n",
       "      <td>-74.025510</td>\n",
       "    </tr>\n",
       "    <tr>\n",
       "      <th>294</th>\n",
       "      <td>227.568966</td>\n",
       "      <td>R44</td>\n",
       "      <td>86 St</td>\n",
       "      <td>40.622687</td>\n",
       "      <td>-74.028398</td>\n",
       "    </tr>\n",
       "    <tr>\n",
       "      <th>295</th>\n",
       "      <td>477.750000</td>\n",
       "      <td>R45</td>\n",
       "      <td>Bay Ridge - 95 St</td>\n",
       "      <td>40.616622</td>\n",
       "      <td>-74.030876</td>\n",
       "    </tr>\n",
       "    <tr>\n",
       "      <th>296</th>\n",
       "      <td>307.830508</td>\n",
       "      <td>NaN</td>\n",
       "      <td>NaN</td>\n",
       "      <td>NaN</td>\n",
       "      <td>NaN</td>\n",
       "    </tr>\n",
       "    <tr>\n",
       "      <th>297</th>\n",
       "      <td>431.307692</td>\n",
       "      <td>NaN</td>\n",
       "      <td>NaN</td>\n",
       "      <td>NaN</td>\n",
       "      <td>NaN</td>\n",
       "    </tr>\n",
       "    <tr>\n",
       "      <th>298</th>\n",
       "      <td>271.396825</td>\n",
       "      <td>S01</td>\n",
       "      <td>Franklin Av</td>\n",
       "      <td>40.680596</td>\n",
       "      <td>-73.955827</td>\n",
       "    </tr>\n",
       "    <tr>\n",
       "      <th>299</th>\n",
       "      <td>223.892405</td>\n",
       "      <td>S03</td>\n",
       "      <td>Park Pl</td>\n",
       "      <td>40.674772</td>\n",
       "      <td>-73.957624</td>\n",
       "    </tr>\n",
       "    <tr>\n",
       "      <th>300</th>\n",
       "      <td>256.100629</td>\n",
       "      <td>S04</td>\n",
       "      <td>Botanic Garden</td>\n",
       "      <td>40.670343</td>\n",
       "      <td>-73.959245</td>\n",
       "    </tr>\n",
       "  </tbody>\n",
       "</table>\n",
       "<p>301 rows × 5 columns</p>\n",
       "</div>"
      ],
      "text/plain": [
       "          delay stop_id                   stop_name   stop_lat   stop_lon\n",
       "0    -93.871622     NaN                         NaN        NaN        NaN\n",
       "1    264.068182     701          Flushing - Main St  40.759600 -73.830030\n",
       "2    401.822222     702        Mets - Willets Point  40.754622 -73.845625\n",
       "3    304.583333     705                      111 St  40.751730 -73.855334\n",
       "4    127.700000     706       103 St - Corona Plaza  40.749865 -73.862700\n",
       "5    140.405063     707               Junction Blvd  40.749145 -73.869527\n",
       "6    134.897436     708         90 St - Elmhurst Av  40.748408 -73.876613\n",
       "7    106.371795     709         82 St - Jackson Hts  40.747659 -73.883697\n",
       "8    118.038462     710            74 St - Broadway  40.746848 -73.891394\n",
       "9    136.320513     711                       69 St  40.746325 -73.896403\n",
       "10   178.833333     712            Woodside - 61 St  40.745630 -73.902984\n",
       "11   194.298701     713                       52 St  40.744149 -73.912549\n",
       "12   111.974026     714                       46 St  40.743132 -73.918435\n",
       "13   113.116883     715                       40 St  40.743781 -73.924016\n",
       "14   180.337662     716                       33 St  40.744587 -73.930997\n",
       "15   249.753247     718            Queensboro Plaza  40.750582 -73.940202\n",
       "16   249.605263     719                    Court Sq  40.747023 -73.945264\n",
       "17   160.896104     720            Hunters Point Av  40.742216 -73.948916\n",
       "18   264.987013     721    Vernon Blvd - Jackson Av  40.742626 -73.953581\n",
       "19   328.880000     723       Grand Central - 42 St  40.751431 -73.976041\n",
       "20   124.740260     724                        5 Av  40.753821 -73.981963\n",
       "21   225.190476     725            Times Sq - 42 St  40.755477 -73.987691\n",
       "22   261.545455     726               34 St - 11 Av  40.755882 -74.001910\n",
       "23   423.358974     A02             Inwood - 207 St  40.868072 -73.919899\n",
       "24   297.676471     A03                  Dyckman St  40.865491 -73.927271\n",
       "25   315.602041     A05                      190 St  40.859022 -73.934180\n",
       "26   264.525773     A06                      181 St  40.851695 -73.937969\n",
       "27   361.628866     A07                      175 St  40.847391 -73.939704\n",
       "28   484.372549     A09                      168 St  40.840719 -73.939561\n",
       "29   216.807692     A10       163 St - Amsterdam Av  40.836013 -73.939892\n",
       "..          ...     ...                         ...        ...        ...\n",
       "271  196.736111     R19                       23 St  40.741303 -73.989344\n",
       "272  575.303571     R20            14 St - Union Sq  40.735736 -73.990568\n",
       "273  209.236111     R21                  8 St - NYU  40.730328 -73.992629\n",
       "274  225.070423     R22                   Prince St  40.724329 -73.997702\n",
       "275  294.571429     R23                    Canal St  40.719527 -74.001775\n",
       "276  345.508772     R24                   City Hall  40.713282 -74.006978\n",
       "277  232.068966     R25                Cortlandt St  40.710668 -74.011029\n",
       "278  212.232143     R26                   Rector St  40.707220 -74.013342\n",
       "279  251.775862     R27                Whitehall St  40.703087 -74.012994\n",
       "280  398.190476     R28                    Court St  40.694100 -73.991777\n",
       "281  281.062500     R29          Jay St - MetroTech  40.692180 -73.985942\n",
       "282  688.670659     R30                   DeKalb Av  40.690635 -73.981824\n",
       "283  520.421053     R31  Atlantic Av - Barclays Ctr  40.683666 -73.978810\n",
       "284  297.066667     R32                    Union St  40.677316 -73.983110\n",
       "285  333.333333     R33                        9 St  40.670847 -73.988302\n",
       "286  291.933333     R34                 Prospect Av  40.665414 -73.992872\n",
       "287  266.950000     R35                       25 St  40.660397 -73.998091\n",
       "288  398.871795     R36                       36 St  40.655144 -74.003549\n",
       "289  354.583333     R39                       45 St  40.648939 -74.010006\n",
       "290  256.509091     R40                       53 St  40.645069 -74.014034\n",
       "291  270.474576     R41                       59 St  40.641362 -74.017881\n",
       "292  222.947368     R42                Bay Ridge Av  40.634967 -74.023377\n",
       "293  176.107143     R43                       77 St  40.629742 -74.025510\n",
       "294  227.568966     R44                       86 St  40.622687 -74.028398\n",
       "295  477.750000     R45           Bay Ridge - 95 St  40.616622 -74.030876\n",
       "296  307.830508     NaN                         NaN        NaN        NaN\n",
       "297  431.307692     NaN                         NaN        NaN        NaN\n",
       "298  271.396825     S01                 Franklin Av  40.680596 -73.955827\n",
       "299  223.892405     S03                     Park Pl  40.674772 -73.957624\n",
       "300  256.100629     S04              Botanic Garden  40.670343 -73.959245\n",
       "\n",
       "[301 rows x 5 columns]"
      ]
     },
     "execution_count": 145,
     "metadata": {},
     "output_type": "execute_result"
    }
   ],
   "source": [
    "pd.merge(df_match.groupby('vehicle_stop_id').mean().reset_index(), stops, left_on='vehicle_stop_id', right_on='stop_id', how='left')[['delay', 'stop_id', 'stop_name', 'stop_lat', 'stop_lon']]"
   ]
  },
  {
   "cell_type": "code",
   "execution_count": 147,
   "metadata": {
    "ExecuteTime": {
     "end_time": "2019-08-30T19:53:03.029762Z",
     "start_time": "2019-08-30T19:53:02.674721Z"
    }
   },
   "outputs": [
    {
     "data": {
      "text/plain": [
       "Text(0.5, 1.0, 'MTA Subway Delay Stats for B-Division trains on 2019/6/30')"
      ]
     },
     "execution_count": 147,
     "metadata": {},
     "output_type": "execute_result"
    },
    {
     "data": {
      "image/png": "[encoded data removed]",
      "text/plain": [
       "<Figure size 720x720 with 1 Axes>"
      ]
     },
     "metadata": {
      "needs_background": "light"
     },
     "output_type": "display_data"
    }
   ],
   "source": [
    "import matplotlib.pyplot as plt\n",
    "%matplotlib inline\n",
    "\n",
    "fig = plt.figure(figsize=(10, 10))\n",
    "ax = fig.add_subplot(111)\n",
    "df_match.delay.hist(bins=100)\n",
    "plt.xlabel('Delay (seconds)')\n",
    "plt.ylabel('Number of arrivals')\n",
    "plt.title('MTA Subway Delay Stats for B-Division trains on 2019/6/30')"
   ]
  },
  {
   "cell_type": "markdown",
   "metadata": {},
   "source": [
    "### Average route delay for a single station"
   ]
  },
  {
   "cell_type": "code",
   "execution_count": 162,
   "metadata": {
    "ExecuteTime": {
     "end_time": "2019-08-30T20:21:10.024199Z",
     "start_time": "2019-08-30T20:21:10.015223Z"
    }
   },
   "outputs": [],
   "source": [
    "# take Atlantic as an example\n",
    "Atlantic_stop_list = list(stops[stops.stop_name.apply(lambda x: 'Atlantic' in x)]['stop_id'])\n",
    "df_match_Atlantic = df_match[df_match['stop_id'].isin(Atlantic_stop_list)]"
   ]
  },
  {
   "cell_type": "code",
   "execution_count": 164,
   "metadata": {
    "ExecuteTime": {
     "end_time": "2019-08-30T20:21:41.136098Z",
     "start_time": "2019-08-30T20:21:41.128151Z"
    }
   },
   "outputs": [
    {
     "data": {
      "text/html": [
       "<div>\n",
       "<style scoped>\n",
       "    .dataframe tbody tr th:only-of-type {\n",
       "        vertical-align: middle;\n",
       "    }\n",
       "\n",
       "    .dataframe tbody tr th {\n",
       "        vertical-align: top;\n",
       "    }\n",
       "\n",
       "    .dataframe thead th {\n",
       "        text-align: right;\n",
       "    }\n",
       "</style>\n",
       "<table border=\"1\" class=\"dataframe\">\n",
       "  <thead>\n",
       "    <tr style=\"text-align: right;\">\n",
       "      <th></th>\n",
       "      <th>delay</th>\n",
       "    </tr>\n",
       "    <tr>\n",
       "      <th>route_id</th>\n",
       "      <th></th>\n",
       "    </tr>\n",
       "  </thead>\n",
       "  <tbody>\n",
       "    <tr>\n",
       "      <th>D</th>\n",
       "      <td>682.272727</td>\n",
       "    </tr>\n",
       "    <tr>\n",
       "      <th>L</th>\n",
       "      <td>43.545455</td>\n",
       "    </tr>\n",
       "    <tr>\n",
       "      <th>N</th>\n",
       "      <td>525.250000</td>\n",
       "    </tr>\n",
       "    <tr>\n",
       "      <th>Q</th>\n",
       "      <td>555.974576</td>\n",
       "    </tr>\n",
       "    <tr>\n",
       "      <th>R</th>\n",
       "      <td>588.481481</td>\n",
       "    </tr>\n",
       "  </tbody>\n",
       "</table>\n",
       "</div>"
      ],
      "text/plain": [
       "               delay\n",
       "route_id            \n",
       "D         682.272727\n",
       "L          43.545455\n",
       "N         525.250000\n",
       "Q         555.974576\n",
       "R         588.481481"
      ]
     },
     "execution_count": 164,
     "metadata": {},
     "output_type": "execute_result"
    }
   ],
   "source": [
    "df_match_Atlantic.groupby('route_id').mean()"
   ]
  }
 ],
 "metadata": {
  "kernelspec": {
   "display_name": "Python 3",
   "language": "python",
   "name": "python3"
  },
  "language_info": {
   "codemirror_mode": {
    "name": "ipython",
    "version": 3
   },
   "file_extension": ".py",
   "mimetype": "text/x-python",
   "name": "python",
   "nbconvert_exporter": "python",
   "pygments_lexer": "ipython3",
   "version": "3.6.8"
  },
  "toc": {
   "base_numbering": 1,
   "nav_menu": {},
   "number_sections": true,
   "sideBar": true,
   "skip_h1_title": false,
   "title_cell": "Table of Contents",
   "title_sidebar": "Contents",
   "toc_cell": false,
   "toc_position": {
    "height": "calc(100% - 180px)",
    "left": "10px",
    "top": "150px",
    "width": "307.2px"
   },
   "toc_section_display": true,
   "toc_window_display": true
  }
 },
 "nbformat": 4,
 "nbformat_minor": 2
}
