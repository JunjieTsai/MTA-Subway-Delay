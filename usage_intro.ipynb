{
 "cells": [
  {
   "cell_type": "markdown",
   "metadata": {},
   "source": [
    "# MTANGFS TOOL"
   ]
  },
  {
   "cell_type": "code",
   "execution_count": 1,
   "metadata": {
    "ExecuteTime": {
     "end_time": "2019-09-10T20:39:57.766131Z",
     "start_time": "2019-09-10T20:39:56.057479Z"
    }
   },
   "outputs": [],
   "source": [
    "import mtagtfs"
   ]
  },
  {
   "cell_type": "markdown",
   "metadata": {},
   "source": [
    "## Collect"
   ]
  },
  {
   "cell_type": "code",
   "execution_count": null,
   "metadata": {
    "ExecuteTime": {
     "start_time": "2019-09-10T20:30:07.951Z"
    }
   },
   "outputs": [],
   "source": [
    "# 'collect' function takes APIkey as an input, keeps requesting MTA subway real-time status and writting gtfs files.\n",
    "APIkey = 'YOUR MTA SUBWAY API KEY'\n",
    "mtagtfs.collect(APIkey)"
   ]
  },
  {
   "cell_type": "markdown",
   "metadata": {},
   "source": [
    "## Actual Arrival"
   ]
  },
  {
   "cell_type": "code",
   "execution_count": 2,
   "metadata": {
    "ExecuteTime": {
     "end_time": "2019-09-10T20:40:00.492434Z",
     "start_time": "2019-09-10T20:40:00.488669Z"
    }
   },
   "outputs": [],
   "source": [
    "date = '20180801'"
   ]
  },
  {
   "cell_type": "code",
   "execution_count": 3,
   "metadata": {
    "ExecuteTime": {
     "end_time": "2019-09-10T20:41:11.493834Z",
     "start_time": "2019-09-10T20:40:00.493631Z"
    }
   },
   "outputs": [
    {
     "name": "stdout",
     "output_type": "stream",
     "text": [
      "47 GTFS files cannot be parsed\n"
     ]
    }
   ],
   "source": [
    "# 'arrival' function takes date as an input, structures and integrates the GTFS files, and outputs a arrival csv file.\n",
    "mtagtfs.arrival(date)"
   ]
  },
  {
   "cell_type": "markdown",
   "metadata": {},
   "source": [
    "## Delay"
   ]
  },
  {
   "cell_type": "code",
   "execution_count": 4,
   "metadata": {
    "ExecuteTime": {
     "end_time": "2019-09-10T20:42:15.290951Z",
     "start_time": "2019-09-10T20:41:11.493834Z"
    }
   },
   "outputs": [
    {
     "name": "stderr",
     "output_type": "stream",
     "text": [
      "C:\\ProgramData\\Anaconda3\\lib\\site-packages\\IPython\\core\\interactiveshell.py:3191: DtypeWarning: Columns (9) have mixed types. Specify dtype option on import or set low_memory=False.\n",
      "  if (yield from self.run_code(code, result)):\n"
     ]
    }
   ],
   "source": [
    "# 'delay' function takes date as an input, calculates delays by actual arrivals and schedules, and outputs a delay csv file.\n",
    "mtagtfs.delay(date, date_schedule = '20180708')"
   ]
  },
  {
   "cell_type": "markdown",
   "metadata": {},
   "source": [
    "# Analysis"
   ]
  },
  {
   "cell_type": "code",
   "execution_count": 5,
   "metadata": {
    "ExecuteTime": {
     "end_time": "2019-09-10T20:42:15.296944Z",
     "start_time": "2019-09-10T20:42:15.292920Z"
    }
   },
   "outputs": [],
   "source": [
    "date = '20180801'\n",
    "year, month, day = date[:4], date[4:6], date[6:8]"
   ]
  },
  {
   "cell_type": "code",
   "execution_count": 6,
   "metadata": {
    "ExecuteTime": {
     "end_time": "2019-09-10T20:42:15.520817Z",
     "start_time": "2019-09-10T20:42:15.298945Z"
    }
   },
   "outputs": [
    {
     "name": "stdout",
     "output_type": "stream",
     "text": [
      "(156563, 9)\n"
     ]
    },
    {
     "name": "stderr",
     "output_type": "stream",
     "text": [
      "C:\\ProgramData\\Anaconda3\\lib\\site-packages\\IPython\\core\\interactiveshell.py:3020: DtypeWarning: Columns (9) have mixed types. Specify dtype option on import or set low_memory=False.\n",
      "  interactivity=interactivity, compiler=compiler, result=result)\n"
     ]
    },
    {
     "data": {
      "text/html": [
       "<div>\n",
       "<style scoped>\n",
       "    .dataframe tbody tr th:only-of-type {\n",
       "        vertical-align: middle;\n",
       "    }\n",
       "\n",
       "    .dataframe tbody tr th {\n",
       "        vertical-align: top;\n",
       "    }\n",
       "\n",
       "    .dataframe thead th {\n",
       "        text-align: right;\n",
       "    }\n",
       "</style>\n",
       "<table border=\"1\" class=\"dataframe\">\n",
       "  <thead>\n",
       "    <tr style=\"text-align: right;\">\n",
       "      <th></th>\n",
       "      <th>gtfs_timestamp</th>\n",
       "      <th>trip_id</th>\n",
       "      <th>arrival_time</th>\n",
       "      <th>stop_id</th>\n",
       "      <th>route_id</th>\n",
       "      <th>current_stop_sequence</th>\n",
       "      <th>current_status</th>\n",
       "      <th>vehicle_timestamp</th>\n",
       "      <th>vehicle_stop_id</th>\n",
       "    </tr>\n",
       "  </thead>\n",
       "  <tbody>\n",
       "    <tr>\n",
       "      <td>0</td>\n",
       "      <td>1533181992</td>\n",
       "      <td>000650_1..S03R</td>\n",
       "      <td>0</td>\n",
       "      <td>101S</td>\n",
       "      <td>1</td>\n",
       "      <td>0</td>\n",
       "      <td>2</td>\n",
       "      <td>0</td>\n",
       "      <td>NaN</td>\n",
       "    </tr>\n",
       "    <tr>\n",
       "      <td>1</td>\n",
       "      <td>1533181992</td>\n",
       "      <td>144900_1..N03R</td>\n",
       "      <td>0</td>\n",
       "      <td>142N</td>\n",
       "      <td>1</td>\n",
       "      <td>0</td>\n",
       "      <td>2</td>\n",
       "      <td>0</td>\n",
       "      <td>NaN</td>\n",
       "    </tr>\n",
       "    <tr>\n",
       "      <td>2</td>\n",
       "      <td>1533181992</td>\n",
       "      <td>145900_1..N03R</td>\n",
       "      <td>0</td>\n",
       "      <td>142N</td>\n",
       "      <td>1</td>\n",
       "      <td>0</td>\n",
       "      <td>2</td>\n",
       "      <td>0</td>\n",
       "      <td>NaN</td>\n",
       "    </tr>\n",
       "    <tr>\n",
       "      <td>3</td>\n",
       "      <td>1533181992</td>\n",
       "      <td>002550_1..S03R</td>\n",
       "      <td>0</td>\n",
       "      <td>101S</td>\n",
       "      <td>1</td>\n",
       "      <td>0</td>\n",
       "      <td>2</td>\n",
       "      <td>0</td>\n",
       "      <td>NaN</td>\n",
       "    </tr>\n",
       "    <tr>\n",
       "      <td>4</td>\n",
       "      <td>1533095893</td>\n",
       "      <td>137900_1..N03R</td>\n",
       "      <td>1533095916</td>\n",
       "      <td>101N</td>\n",
       "      <td>1</td>\n",
       "      <td>38</td>\n",
       "      <td>0</td>\n",
       "      <td>1533095891</td>\n",
       "      <td>101N</td>\n",
       "    </tr>\n",
       "  </tbody>\n",
       "</table>\n",
       "</div>"
      ],
      "text/plain": [
       "   gtfs_timestamp         trip_id  arrival_time stop_id route_id  \\\n",
       "0      1533181992  000650_1..S03R             0    101S        1   \n",
       "1      1533181992  144900_1..N03R             0    142N        1   \n",
       "2      1533181992  145900_1..N03R             0    142N        1   \n",
       "3      1533181992  002550_1..S03R             0    101S        1   \n",
       "4      1533095893  137900_1..N03R    1533095916    101N        1   \n",
       "\n",
       "   current_stop_sequence  current_status  vehicle_timestamp vehicle_stop_id  \n",
       "0                      0               2                  0             NaN  \n",
       "1                      0               2                  0             NaN  \n",
       "2                      0               2                  0             NaN  \n",
       "3                      0               2                  0             NaN  \n",
       "4                     38               0         1533095891            101N  "
      ]
     },
     "execution_count": 6,
     "metadata": {},
     "output_type": "execute_result"
    }
   ],
   "source": [
    "import pandas as pd\n",
    "df_arrival = pd.read_csv(year + month + '/arrival_' +  year + month + day + '.csv', index_col=0)\n",
    "print(df_arrival.shape)\n",
    "df_arrival.head()"
   ]
  },
  {
   "cell_type": "code",
   "execution_count": 7,
   "metadata": {
    "ExecuteTime": {
     "end_time": "2019-09-10T20:42:15.694536Z",
     "start_time": "2019-09-10T20:42:15.522815Z"
    }
   },
   "outputs": [
    {
     "name": "stdout",
     "output_type": "stream",
     "text": [
      "(40934, 15)\n"
     ]
    },
    {
     "data": {
      "text/html": [
       "<div>\n",
       "<style scoped>\n",
       "    .dataframe tbody tr th:only-of-type {\n",
       "        vertical-align: middle;\n",
       "    }\n",
       "\n",
       "    .dataframe tbody tr th {\n",
       "        vertical-align: top;\n",
       "    }\n",
       "\n",
       "    .dataframe thead th {\n",
       "        text-align: right;\n",
       "    }\n",
       "</style>\n",
       "<table border=\"1\" class=\"dataframe\">\n",
       "  <thead>\n",
       "    <tr style=\"text-align: right;\">\n",
       "      <th></th>\n",
       "      <th>gtfs_timestamp</th>\n",
       "      <th>trip_id</th>\n",
       "      <th>arrival_time</th>\n",
       "      <th>stop_id</th>\n",
       "      <th>route_id</th>\n",
       "      <th>current_stop_sequence</th>\n",
       "      <th>current_status</th>\n",
       "      <th>vehicle_timestamp</th>\n",
       "      <th>vehicle_stop_id</th>\n",
       "      <th>weekday</th>\n",
       "      <th>trip_id2</th>\n",
       "      <th>match_id</th>\n",
       "      <th>arrival_time_scheduled</th>\n",
       "      <th>departure_time_scheduled</th>\n",
       "      <th>delay</th>\n",
       "    </tr>\n",
       "  </thead>\n",
       "  <tbody>\n",
       "    <tr>\n",
       "      <td>0</td>\n",
       "      <td>2018-08-01 00:33:13</td>\n",
       "      <td>000650_1..S</td>\n",
       "      <td>2018-08-01 00:34:06</td>\n",
       "      <td>120S</td>\n",
       "      <td>1</td>\n",
       "      <td>18</td>\n",
       "      <td>2</td>\n",
       "      <td>2018-08-01 00:33:09</td>\n",
       "      <td>120S</td>\n",
       "      <td>Weekday</td>\n",
       "      <td>Weekday-000650_1..S</td>\n",
       "      <td>Weekday-000650_1..S//120S</td>\n",
       "      <td>2018-08-01 00:33:00</td>\n",
       "      <td>00:33:00</td>\n",
       "      <td>66.0</td>\n",
       "    </tr>\n",
       "    <tr>\n",
       "      <td>1</td>\n",
       "      <td>2018-08-01 00:38:13</td>\n",
       "      <td>000650_1..S</td>\n",
       "      <td>2018-08-01 00:39:46</td>\n",
       "      <td>123S</td>\n",
       "      <td>1</td>\n",
       "      <td>19</td>\n",
       "      <td>2</td>\n",
       "      <td>2018-08-01 00:38:08</td>\n",
       "      <td>123S</td>\n",
       "      <td>Weekday</td>\n",
       "      <td>Weekday-000650_1..S</td>\n",
       "      <td>Weekday-000650_1..S//123S</td>\n",
       "      <td>2018-08-01 00:37:30</td>\n",
       "      <td>00:37:30</td>\n",
       "      <td>136.0</td>\n",
       "    </tr>\n",
       "    <tr>\n",
       "      <td>2</td>\n",
       "      <td>2018-08-01 00:43:13</td>\n",
       "      <td>000650_1..S</td>\n",
       "      <td>2018-08-01 00:43:07</td>\n",
       "      <td>125S</td>\n",
       "      <td>1</td>\n",
       "      <td>21</td>\n",
       "      <td>1</td>\n",
       "      <td>2018-08-01 00:42:37</td>\n",
       "      <td>125S</td>\n",
       "      <td>Weekday</td>\n",
       "      <td>Weekday-000650_1..S</td>\n",
       "      <td>Weekday-000650_1..S//125S</td>\n",
       "      <td>2018-08-01 00:40:30</td>\n",
       "      <td>00:40:30</td>\n",
       "      <td>157.0</td>\n",
       "    </tr>\n",
       "    <tr>\n",
       "      <td>3</td>\n",
       "      <td>2018-08-01 00:48:13</td>\n",
       "      <td>000650_1..S</td>\n",
       "      <td>2018-08-01 00:47:53</td>\n",
       "      <td>128S</td>\n",
       "      <td>1</td>\n",
       "      <td>24</td>\n",
       "      <td>1</td>\n",
       "      <td>2018-08-01 00:47:23</td>\n",
       "      <td>128S</td>\n",
       "      <td>Weekday</td>\n",
       "      <td>Weekday-000650_1..S</td>\n",
       "      <td>Weekday-000650_1..S//128S</td>\n",
       "      <td>2018-08-01 00:45:30</td>\n",
       "      <td>00:45:30</td>\n",
       "      <td>143.0</td>\n",
       "    </tr>\n",
       "    <tr>\n",
       "      <td>4</td>\n",
       "      <td>2018-08-01 00:53:13</td>\n",
       "      <td>000650_1..S</td>\n",
       "      <td>2018-08-01 00:53:40</td>\n",
       "      <td>132S</td>\n",
       "      <td>1</td>\n",
       "      <td>28</td>\n",
       "      <td>1</td>\n",
       "      <td>2018-08-01 00:53:10</td>\n",
       "      <td>132S</td>\n",
       "      <td>Weekday</td>\n",
       "      <td>Weekday-000650_1..S</td>\n",
       "      <td>Weekday-000650_1..S//132S</td>\n",
       "      <td>2018-08-01 00:49:30</td>\n",
       "      <td>00:49:30</td>\n",
       "      <td>250.0</td>\n",
       "    </tr>\n",
       "  </tbody>\n",
       "</table>\n",
       "</div>"
      ],
      "text/plain": [
       "        gtfs_timestamp      trip_id         arrival_time stop_id route_id  \\\n",
       "0  2018-08-01 00:33:13  000650_1..S  2018-08-01 00:34:06    120S        1   \n",
       "1  2018-08-01 00:38:13  000650_1..S  2018-08-01 00:39:46    123S        1   \n",
       "2  2018-08-01 00:43:13  000650_1..S  2018-08-01 00:43:07    125S        1   \n",
       "3  2018-08-01 00:48:13  000650_1..S  2018-08-01 00:47:53    128S        1   \n",
       "4  2018-08-01 00:53:13  000650_1..S  2018-08-01 00:53:40    132S        1   \n",
       "\n",
       "   current_stop_sequence  current_status    vehicle_timestamp vehicle_stop_id  \\\n",
       "0                     18               2  2018-08-01 00:33:09            120S   \n",
       "1                     19               2  2018-08-01 00:38:08            123S   \n",
       "2                     21               1  2018-08-01 00:42:37            125S   \n",
       "3                     24               1  2018-08-01 00:47:23            128S   \n",
       "4                     28               1  2018-08-01 00:53:10            132S   \n",
       "\n",
       "   weekday             trip_id2                   match_id  \\\n",
       "0  Weekday  Weekday-000650_1..S  Weekday-000650_1..S//120S   \n",
       "1  Weekday  Weekday-000650_1..S  Weekday-000650_1..S//123S   \n",
       "2  Weekday  Weekday-000650_1..S  Weekday-000650_1..S//125S   \n",
       "3  Weekday  Weekday-000650_1..S  Weekday-000650_1..S//128S   \n",
       "4  Weekday  Weekday-000650_1..S  Weekday-000650_1..S//132S   \n",
       "\n",
       "  arrival_time_scheduled departure_time_scheduled  delay  \n",
       "0    2018-08-01 00:33:00                 00:33:00   66.0  \n",
       "1    2018-08-01 00:37:30                 00:37:30  136.0  \n",
       "2    2018-08-01 00:40:30                 00:40:30  157.0  \n",
       "3    2018-08-01 00:45:30                 00:45:30  143.0  \n",
       "4    2018-08-01 00:49:30                 00:49:30  250.0  "
      ]
     },
     "execution_count": 7,
     "metadata": {},
     "output_type": "execute_result"
    }
   ],
   "source": [
    "import pandas as pd\n",
    "df_delay = pd.read_csv(year + month + '/delay_' +  year + month + day + '.csv', index_col=0)\n",
    "print(df_delay.shape)\n",
    "df_delay.head()"
   ]
  },
  {
   "cell_type": "code",
   "execution_count": 8,
   "metadata": {
    "ExecuteTime": {
     "end_time": "2019-09-10T20:43:18.681517Z",
     "start_time": "2019-09-10T20:43:17.941031Z"
    }
   },
   "outputs": [
    {
     "data": {
      "text/plain": [
       "Text(0.5, 1.0, 'MTA Subway Delay Stats for B-Division trains on 2018/08/01')"
      ]
     },
     "execution_count": 8,
     "metadata": {},
     "output_type": "execute_result"
    },
    {
     "data": {
      "image/png": "[encoded data removed]",
      "text/plain": [
       "<Figure size 720x720 with 1 Axes>"
      ]
     },
     "metadata": {
      "needs_background": "light"
     },
     "output_type": "display_data"
    }
   ],
   "source": [
    "import matplotlib.pyplot as plt\n",
    "%matplotlib inline\n",
    "\n",
    "fig = plt.figure(figsize=(10, 10))\n",
    "ax = fig.add_subplot(111)\n",
    "df_delay.delay.hist(bins=100)\n",
    "plt.xlabel('Delay (seconds)')\n",
    "plt.ylabel('Number of arrivals')\n",
    "plt.title('MTA Subway Delay Stats for B-Division trains on 2018/08/01')"
   ]
  }
 ],
 "metadata": {
  "kernelspec": {
   "display_name": "Python 3",
   "language": "python",
   "name": "python3"
  },
  "language_info": {
   "codemirror_mode": {
    "name": "ipython",
    "version": 3
   },
   "file_extension": ".py",
   "mimetype": "text/x-python",
   "name": "python",
   "nbconvert_exporter": "python",
   "pygments_lexer": "ipython3",
   "version": "3.6.8"
  },
  "toc": {
   "base_numbering": 1,
   "nav_menu": {},
   "number_sections": true,
   "sideBar": true,
   "skip_h1_title": false,
   "title_cell": "Table of Contents",
   "title_sidebar": "Contents",
   "toc_cell": false,
   "toc_position": {
    "height": "calc(100% - 180px)",
    "left": "10px",
    "top": "150px",
    "width": "307.2px"
   },
   "toc_section_display": true,
   "toc_window_display": true
  }
 },
 "nbformat": 4,
 "nbformat_minor": 2
}
