{
 "cells": [
  {
   "cell_type": "markdown",
   "metadata": {},
   "source": [
    "# MTANGFS TOOL"
   ]
  },
  {
   "cell_type": "code",
   "execution_count": 1,
   "metadata": {
    "ExecuteTime": {
     "end_time": "2019-09-05T19:26:37.611890Z",
     "start_time": "2019-09-05T19:26:37.598920Z"
    }
   },
   "outputs": [],
   "source": [
    "import MTAGTFS0905"
   ]
  },
  {
   "cell_type": "markdown",
   "metadata": {},
   "source": [
    "## Collect"
   ]
  },
  {
   "cell_type": "code",
   "execution_count": null,
   "metadata": {
    "ExecuteTime": {
     "end_time": "2019-09-05T19:25:24.184219Z",
     "start_time": "2019-09-05T19:25:07.560232Z"
    }
   },
   "outputs": [],
   "source": [
    "APIkey = ''\n",
    "MTAGTFS0905.collect(APIkey)"
   ]
  },
  {
   "cell_type": "markdown",
   "metadata": {},
   "source": [
    "## Actual Arrival"
   ]
  },
  {
   "cell_type": "code",
   "execution_count": null,
   "metadata": {},
   "outputs": [],
   "source": [
    "year, month, day = '2018', '08', '01'"
   ]
  },
  {
   "cell_type": "code",
   "execution_count": 2,
   "metadata": {
    "ExecuteTime": {
     "end_time": "2019-09-05T19:29:14.164130Z",
     "start_time": "2019-09-05T19:26:39.992310Z"
    }
   },
   "outputs": [
    {
     "name": "stdout",
     "output_type": "stream",
     "text": [
      "47 GTFS files cannot be parsed\n"
     ]
    }
   ],
   "source": [
    "MTAGTFS0905.arrival(year, month, day)"
   ]
  },
  {
   "cell_type": "markdown",
   "metadata": {},
   "source": [
    "## Delay"
   ]
  },
  {
   "cell_type": "code",
   "execution_count": 3,
   "metadata": {
    "ExecuteTime": {
     "end_time": "2019-09-05T19:30:20.123178Z",
     "start_time": "2019-09-05T19:29:14.165756Z"
    }
   },
   "outputs": [
    {
     "name": "stderr",
     "output_type": "stream",
     "text": [
      "C:\\ProgramData\\Anaconda3\\lib\\site-packages\\IPython\\core\\interactiveshell.py:3191: DtypeWarning: Columns (8) have mixed types. Specify dtype option on import or set low_memory=False.\n",
      "  if (yield from self.run_code(code, result)):\n"
     ]
    }
   ],
   "source": [
    "MTAGTFS0905.delay(year, month, day)"
   ]
  },
  {
   "cell_type": "markdown",
   "metadata": {},
   "source": [
    "# Analysis"
   ]
  },
  {
   "cell_type": "code",
   "execution_count": 5,
   "metadata": {
    "ExecuteTime": {
     "end_time": "2019-09-05T19:31:38.188805Z",
     "start_time": "2019-09-05T19:31:38.028186Z"
    }
   },
   "outputs": [
    {
     "name": "stderr",
     "output_type": "stream",
     "text": [
      "C:\\ProgramData\\Anaconda3\\lib\\site-packages\\IPython\\core\\interactiveshell.py:3020: DtypeWarning: Columns (9) have mixed types. Specify dtype option on import or set low_memory=False.\n",
      "  interactivity=interactivity, compiler=compiler, result=result)\n"
     ]
    }
   ],
   "source": [
    "import pandas as pd\n",
    "df_delay = pd.read_csv(year + month + '/delay_' +  year + month + day + '.csv')"
   ]
  },
  {
   "cell_type": "markdown",
   "metadata": {},
   "source": [
    "## On-time/ Delay/ Earlier Rate"
   ]
  },
  {
   "cell_type": "code",
   "execution_count": 6,
   "metadata": {
    "ExecuteTime": {
     "end_time": "2019-09-05T19:31:39.184427Z",
     "start_time": "2019-09-05T19:31:39.171426Z"
    }
   },
   "outputs": [
    {
     "data": {
      "text/plain": [
       "0.09947720721160894"
      ]
     },
     "execution_count": 6,
     "metadata": {},
     "output_type": "execute_result"
    }
   ],
   "source": [
    "sum(df_delay.delay == 0)/len(df_delay)"
   ]
  },
  {
   "cell_type": "code",
   "execution_count": 7,
   "metadata": {
    "ExecuteTime": {
     "end_time": "2019-09-05T19:31:39.343965Z",
     "start_time": "2019-09-05T19:31:39.337980Z"
    }
   },
   "outputs": [
    {
     "data": {
      "text/plain": [
       "0.7092148336346313"
      ]
     },
     "execution_count": 7,
     "metadata": {},
     "output_type": "execute_result"
    }
   ],
   "source": [
    "sum(df_delay.delay > 0)/len(df_delay)"
   ]
  },
  {
   "cell_type": "code",
   "execution_count": 8,
   "metadata": {
    "ExecuteTime": {
     "end_time": "2019-09-05T19:31:39.564375Z",
     "start_time": "2019-09-05T19:31:39.558393Z"
    }
   },
   "outputs": [
    {
     "data": {
      "text/plain": [
       "0.1913079591537597"
      ]
     },
     "execution_count": 8,
     "metadata": {},
     "output_type": "execute_result"
    }
   ],
   "source": [
    "sum(df_delay.delay < 0)/len(df_delay)"
   ]
  },
  {
   "cell_type": "markdown",
   "metadata": {},
   "source": [
    "## Average delay for all trains for all stations"
   ]
  },
  {
   "cell_type": "code",
   "execution_count": 9,
   "metadata": {
    "ExecuteTime": {
     "end_time": "2019-09-05T19:31:43.219829Z",
     "start_time": "2019-09-05T19:31:43.213846Z"
    }
   },
   "outputs": [
    {
     "data": {
      "text/plain": [
       "168.99347730492988"
      ]
     },
     "execution_count": 9,
     "metadata": {},
     "output_type": "execute_result"
    }
   ],
   "source": [
    "df_delay.delay.mean()"
   ]
  },
  {
   "cell_type": "markdown",
   "metadata": {},
   "source": [
    "## Standard deviation of delays for all trains for all stations"
   ]
  },
  {
   "cell_type": "code",
   "execution_count": 10,
   "metadata": {
    "ExecuteTime": {
     "end_time": "2019-09-05T19:31:44.082928Z",
     "start_time": "2019-09-05T19:31:44.078830Z"
    }
   },
   "outputs": [
    {
     "data": {
      "text/plain": [
       "296.3124626058209"
      ]
     },
     "execution_count": 10,
     "metadata": {},
     "output_type": "execute_result"
    }
   ],
   "source": [
    "df_delay.delay.std()"
   ]
  },
  {
   "cell_type": "markdown",
   "metadata": {},
   "source": [
    "## Delays for every route"
   ]
  },
  {
   "cell_type": "code",
   "execution_count": 11,
   "metadata": {
    "ExecuteTime": {
     "end_time": "2019-09-05T19:31:45.701531Z",
     "start_time": "2019-09-05T19:31:45.671610Z"
    }
   },
   "outputs": [
    {
     "data": {
      "text/html": [
       "<div>\n",
       "<style scoped>\n",
       "    .dataframe tbody tr th:only-of-type {\n",
       "        vertical-align: middle;\n",
       "    }\n",
       "\n",
       "    .dataframe tbody tr th {\n",
       "        vertical-align: top;\n",
       "    }\n",
       "\n",
       "    .dataframe thead th {\n",
       "        text-align: right;\n",
       "    }\n",
       "</style>\n",
       "<table border=\"1\" class=\"dataframe\">\n",
       "  <thead>\n",
       "    <tr style=\"text-align: right;\">\n",
       "      <th></th>\n",
       "      <th>Unnamed: 0</th>\n",
       "      <th>current_status</th>\n",
       "      <th>current_stop_sequence</th>\n",
       "      <th>delay</th>\n",
       "    </tr>\n",
       "    <tr>\n",
       "      <th>route_id</th>\n",
       "      <th></th>\n",
       "      <th></th>\n",
       "      <th></th>\n",
       "      <th></th>\n",
       "    </tr>\n",
       "  </thead>\n",
       "  <tbody>\n",
       "    <tr>\n",
       "      <th>1</th>\n",
       "      <td>323.971429</td>\n",
       "      <td>1.214286</td>\n",
       "      <td>25.500000</td>\n",
       "      <td>230.597143</td>\n",
       "    </tr>\n",
       "    <tr>\n",
       "      <th>2</th>\n",
       "      <td>213.804348</td>\n",
       "      <td>1.043478</td>\n",
       "      <td>31.543478</td>\n",
       "      <td>403.000000</td>\n",
       "    </tr>\n",
       "    <tr>\n",
       "      <th>3</th>\n",
       "      <td>304.294118</td>\n",
       "      <td>1.529412</td>\n",
       "      <td>23.058824</td>\n",
       "      <td>292.647059</td>\n",
       "    </tr>\n",
       "    <tr>\n",
       "      <th>4</th>\n",
       "      <td>407.795181</td>\n",
       "      <td>1.349398</td>\n",
       "      <td>15.951807</td>\n",
       "      <td>140.469880</td>\n",
       "    </tr>\n",
       "    <tr>\n",
       "      <th>5</th>\n",
       "      <td>390.906977</td>\n",
       "      <td>1.348837</td>\n",
       "      <td>19.976744</td>\n",
       "      <td>84.860465</td>\n",
       "    </tr>\n",
       "    <tr>\n",
       "      <th>5X</th>\n",
       "      <td>388.500000</td>\n",
       "      <td>1.625000</td>\n",
       "      <td>26.750000</td>\n",
       "      <td>679.750000</td>\n",
       "    </tr>\n",
       "    <tr>\n",
       "      <th>6</th>\n",
       "      <td>385.316832</td>\n",
       "      <td>1.000000</td>\n",
       "      <td>23.306931</td>\n",
       "      <td>250.495050</td>\n",
       "    </tr>\n",
       "    <tr>\n",
       "      <th>6X</th>\n",
       "      <td>195.466667</td>\n",
       "      <td>1.000000</td>\n",
       "      <td>23.666667</td>\n",
       "      <td>266.000000</td>\n",
       "    </tr>\n",
       "    <tr>\n",
       "      <th>7</th>\n",
       "      <td>1360.187451</td>\n",
       "      <td>1.256471</td>\n",
       "      <td>7.195294</td>\n",
       "      <td>116.770980</td>\n",
       "    </tr>\n",
       "    <tr>\n",
       "      <th>7X</th>\n",
       "      <td>1617.868966</td>\n",
       "      <td>1.268966</td>\n",
       "      <td>3.551724</td>\n",
       "      <td>34.751724</td>\n",
       "    </tr>\n",
       "    <tr>\n",
       "      <th>A</th>\n",
       "      <td>13831.855486</td>\n",
       "      <td>1.003135</td>\n",
       "      <td>14.324138</td>\n",
       "      <td>224.771473</td>\n",
       "    </tr>\n",
       "    <tr>\n",
       "      <th>B</th>\n",
       "      <td>17504.705302</td>\n",
       "      <td>1.013564</td>\n",
       "      <td>11.039457</td>\n",
       "      <td>121.217016</td>\n",
       "    </tr>\n",
       "    <tr>\n",
       "      <th>C</th>\n",
       "      <td>17030.620968</td>\n",
       "      <td>1.006452</td>\n",
       "      <td>17.373387</td>\n",
       "      <td>168.091129</td>\n",
       "    </tr>\n",
       "    <tr>\n",
       "      <th>D</th>\n",
       "      <td>20026.368311</td>\n",
       "      <td>1.013378</td>\n",
       "      <td>15.519649</td>\n",
       "      <td>206.763796</td>\n",
       "    </tr>\n",
       "    <tr>\n",
       "      <th>E</th>\n",
       "      <td>14032.703570</td>\n",
       "      <td>1.003000</td>\n",
       "      <td>8.750675</td>\n",
       "      <td>102.388839</td>\n",
       "    </tr>\n",
       "    <tr>\n",
       "      <th>F</th>\n",
       "      <td>21164.224269</td>\n",
       "      <td>0.999226</td>\n",
       "      <td>20.614920</td>\n",
       "      <td>268.994273</td>\n",
       "    </tr>\n",
       "    <tr>\n",
       "      <th>G</th>\n",
       "      <td>25420.878924</td>\n",
       "      <td>1.009417</td>\n",
       "      <td>9.033184</td>\n",
       "      <td>150.978924</td>\n",
       "    </tr>\n",
       "    <tr>\n",
       "      <th>H</th>\n",
       "      <td>10460.111111</td>\n",
       "      <td>0.888889</td>\n",
       "      <td>2.388889</td>\n",
       "      <td>93.444444</td>\n",
       "    </tr>\n",
       "    <tr>\n",
       "      <th>J</th>\n",
       "      <td>26445.796782</td>\n",
       "      <td>0.998510</td>\n",
       "      <td>12.478546</td>\n",
       "      <td>123.170739</td>\n",
       "    </tr>\n",
       "    <tr>\n",
       "      <th>L</th>\n",
       "      <td>18131.044416</td>\n",
       "      <td>1.424156</td>\n",
       "      <td>11.512727</td>\n",
       "      <td>7.294545</td>\n",
       "    </tr>\n",
       "    <tr>\n",
       "      <th>M</th>\n",
       "      <td>21290.135499</td>\n",
       "      <td>1.003111</td>\n",
       "      <td>15.936744</td>\n",
       "      <td>194.937090</td>\n",
       "    </tr>\n",
       "    <tr>\n",
       "      <th>N</th>\n",
       "      <td>29724.082060</td>\n",
       "      <td>1.006791</td>\n",
       "      <td>13.083758</td>\n",
       "      <td>262.267119</td>\n",
       "    </tr>\n",
       "    <tr>\n",
       "      <th>Q</th>\n",
       "      <td>30811.711804</td>\n",
       "      <td>1.004737</td>\n",
       "      <td>13.031583</td>\n",
       "      <td>119.474536</td>\n",
       "    </tr>\n",
       "    <tr>\n",
       "      <th>R</th>\n",
       "      <td>31234.941808</td>\n",
       "      <td>1.005968</td>\n",
       "      <td>19.515965</td>\n",
       "      <td>209.105043</td>\n",
       "    </tr>\n",
       "    <tr>\n",
       "      <th>SI</th>\n",
       "      <td>24316.500000</td>\n",
       "      <td>1.435484</td>\n",
       "      <td>3.263441</td>\n",
       "      <td>-38.370968</td>\n",
       "    </tr>\n",
       "  </tbody>\n",
       "</table>\n",
       "</div>"
      ],
      "text/plain": [
       "            Unnamed: 0  current_status  current_stop_sequence       delay\n",
       "route_id                                                                 \n",
       "1           323.971429        1.214286              25.500000  230.597143\n",
       "2           213.804348        1.043478              31.543478  403.000000\n",
       "3           304.294118        1.529412              23.058824  292.647059\n",
       "4           407.795181        1.349398              15.951807  140.469880\n",
       "5           390.906977        1.348837              19.976744   84.860465\n",
       "5X          388.500000        1.625000              26.750000  679.750000\n",
       "6           385.316832        1.000000              23.306931  250.495050\n",
       "6X          195.466667        1.000000              23.666667  266.000000\n",
       "7          1360.187451        1.256471               7.195294  116.770980\n",
       "7X         1617.868966        1.268966               3.551724   34.751724\n",
       "A         13831.855486        1.003135              14.324138  224.771473\n",
       "B         17504.705302        1.013564              11.039457  121.217016\n",
       "C         17030.620968        1.006452              17.373387  168.091129\n",
       "D         20026.368311        1.013378              15.519649  206.763796\n",
       "E         14032.703570        1.003000               8.750675  102.388839\n",
       "F         21164.224269        0.999226              20.614920  268.994273\n",
       "G         25420.878924        1.009417               9.033184  150.978924\n",
       "H         10460.111111        0.888889               2.388889   93.444444\n",
       "J         26445.796782        0.998510              12.478546  123.170739\n",
       "L         18131.044416        1.424156              11.512727    7.294545\n",
       "M         21290.135499        1.003111              15.936744  194.937090\n",
       "N         29724.082060        1.006791              13.083758  262.267119\n",
       "Q         30811.711804        1.004737              13.031583  119.474536\n",
       "R         31234.941808        1.005968              19.515965  209.105043\n",
       "SI        24316.500000        1.435484               3.263441  -38.370968"
      ]
     },
     "execution_count": 11,
     "metadata": {},
     "output_type": "execute_result"
    }
   ],
   "source": [
    "df_delay.groupby('route_id').mean()"
   ]
  },
  {
   "cell_type": "markdown",
   "metadata": {},
   "source": [
    "## Delays for every station"
   ]
  },
  {
   "cell_type": "code",
   "execution_count": 12,
   "metadata": {
    "ExecuteTime": {
     "end_time": "2019-09-05T19:31:47.418498Z",
     "start_time": "2019-09-05T19:31:47.356659Z"
    }
   },
   "outputs": [
    {
     "data": {
      "text/html": [
       "<div>\n",
       "<style scoped>\n",
       "    .dataframe tbody tr th:only-of-type {\n",
       "        vertical-align: middle;\n",
       "    }\n",
       "\n",
       "    .dataframe tbody tr th {\n",
       "        vertical-align: top;\n",
       "    }\n",
       "\n",
       "    .dataframe thead th {\n",
       "        text-align: right;\n",
       "    }\n",
       "</style>\n",
       "<table border=\"1\" class=\"dataframe\">\n",
       "  <thead>\n",
       "    <tr style=\"text-align: right;\">\n",
       "      <th></th>\n",
       "      <th>stop_id</th>\n",
       "      <th>delay</th>\n",
       "      <th>stop_name</th>\n",
       "      <th>stop_lat</th>\n",
       "      <th>stop_lon</th>\n",
       "    </tr>\n",
       "  </thead>\n",
       "  <tbody>\n",
       "    <tr>\n",
       "      <th>0</th>\n",
       "      <td>101</td>\n",
       "      <td>282.800000</td>\n",
       "      <td>Van Cortlandt Park - 242 St</td>\n",
       "      <td>40.889248</td>\n",
       "      <td>-73.898583</td>\n",
       "    </tr>\n",
       "    <tr>\n",
       "      <th>1</th>\n",
       "      <td>103</td>\n",
       "      <td>382.428571</td>\n",
       "      <td>238 St</td>\n",
       "      <td>40.884667</td>\n",
       "      <td>-73.900870</td>\n",
       "    </tr>\n",
       "    <tr>\n",
       "      <th>2</th>\n",
       "      <td>104</td>\n",
       "      <td>340.000000</td>\n",
       "      <td>231 St</td>\n",
       "      <td>40.878856</td>\n",
       "      <td>-73.904834</td>\n",
       "    </tr>\n",
       "    <tr>\n",
       "      <th>3</th>\n",
       "      <td>106</td>\n",
       "      <td>327.000000</td>\n",
       "      <td>Marble Hill - 225 St</td>\n",
       "      <td>40.874561</td>\n",
       "      <td>-73.909831</td>\n",
       "    </tr>\n",
       "    <tr>\n",
       "      <th>4</th>\n",
       "      <td>107</td>\n",
       "      <td>197.714286</td>\n",
       "      <td>215 St</td>\n",
       "      <td>40.869444</td>\n",
       "      <td>-73.915279</td>\n",
       "    </tr>\n",
       "    <tr>\n",
       "      <th>5</th>\n",
       "      <td>108</td>\n",
       "      <td>414.666667</td>\n",
       "      <td>207 St</td>\n",
       "      <td>40.864621</td>\n",
       "      <td>-73.918822</td>\n",
       "    </tr>\n",
       "    <tr>\n",
       "      <th>6</th>\n",
       "      <td>109</td>\n",
       "      <td>391.333333</td>\n",
       "      <td>Dyckman St</td>\n",
       "      <td>40.860531</td>\n",
       "      <td>-73.925536</td>\n",
       "    </tr>\n",
       "    <tr>\n",
       "      <th>7</th>\n",
       "      <td>110</td>\n",
       "      <td>86.500000</td>\n",
       "      <td>191 St</td>\n",
       "      <td>40.855225</td>\n",
       "      <td>-73.929412</td>\n",
       "    </tr>\n",
       "    <tr>\n",
       "      <th>8</th>\n",
       "      <td>111</td>\n",
       "      <td>150.000000</td>\n",
       "      <td>181 St</td>\n",
       "      <td>40.849505</td>\n",
       "      <td>-73.933596</td>\n",
       "    </tr>\n",
       "    <tr>\n",
       "      <th>9</th>\n",
       "      <td>112</td>\n",
       "      <td>224.333333</td>\n",
       "      <td>168 St - Washington Hts</td>\n",
       "      <td>40.840556</td>\n",
       "      <td>-73.940133</td>\n",
       "    </tr>\n",
       "    <tr>\n",
       "      <th>10</th>\n",
       "      <td>113</td>\n",
       "      <td>106.800000</td>\n",
       "      <td>157 St</td>\n",
       "      <td>40.834041</td>\n",
       "      <td>-73.944890</td>\n",
       "    </tr>\n",
       "    <tr>\n",
       "      <th>11</th>\n",
       "      <td>115</td>\n",
       "      <td>53.666667</td>\n",
       "      <td>137 St - City College</td>\n",
       "      <td>40.822008</td>\n",
       "      <td>-73.953676</td>\n",
       "    </tr>\n",
       "    <tr>\n",
       "      <th>12</th>\n",
       "      <td>116</td>\n",
       "      <td>103.000000</td>\n",
       "      <td>125 St</td>\n",
       "      <td>40.815581</td>\n",
       "      <td>-73.958372</td>\n",
       "    </tr>\n",
       "    <tr>\n",
       "      <th>13</th>\n",
       "      <td>118</td>\n",
       "      <td>35.000000</td>\n",
       "      <td>Cathedral Pkwy</td>\n",
       "      <td>40.803967</td>\n",
       "      <td>-73.966847</td>\n",
       "    </tr>\n",
       "    <tr>\n",
       "      <th>14</th>\n",
       "      <td>119</td>\n",
       "      <td>-26.000000</td>\n",
       "      <td>103 St</td>\n",
       "      <td>40.799446</td>\n",
       "      <td>-73.968379</td>\n",
       "    </tr>\n",
       "    <tr>\n",
       "      <th>15</th>\n",
       "      <td>120</td>\n",
       "      <td>128.323529</td>\n",
       "      <td>96 St</td>\n",
       "      <td>40.793919</td>\n",
       "      <td>-73.972323</td>\n",
       "    </tr>\n",
       "    <tr>\n",
       "      <th>16</th>\n",
       "      <td>121</td>\n",
       "      <td>30.000000</td>\n",
       "      <td>86 St</td>\n",
       "      <td>40.788644</td>\n",
       "      <td>-73.976218</td>\n",
       "    </tr>\n",
       "    <tr>\n",
       "      <th>17</th>\n",
       "      <td>122</td>\n",
       "      <td>-41.000000</td>\n",
       "      <td>79 St</td>\n",
       "      <td>40.783934</td>\n",
       "      <td>-73.979917</td>\n",
       "    </tr>\n",
       "    <tr>\n",
       "      <th>18</th>\n",
       "      <td>123</td>\n",
       "      <td>221.350000</td>\n",
       "      <td>72 St</td>\n",
       "      <td>40.778453</td>\n",
       "      <td>-73.981970</td>\n",
       "    </tr>\n",
       "    <tr>\n",
       "      <th>19</th>\n",
       "      <td>124</td>\n",
       "      <td>182.750000</td>\n",
       "      <td>66 St - Lincoln Center</td>\n",
       "      <td>40.773440</td>\n",
       "      <td>-73.982209</td>\n",
       "    </tr>\n",
       "    <tr>\n",
       "      <th>20</th>\n",
       "      <td>125</td>\n",
       "      <td>205.647059</td>\n",
       "      <td>59 St - Columbus Circle</td>\n",
       "      <td>40.768247</td>\n",
       "      <td>-73.981929</td>\n",
       "    </tr>\n",
       "    <tr>\n",
       "      <th>21</th>\n",
       "      <td>126</td>\n",
       "      <td>190.222222</td>\n",
       "      <td>50 St</td>\n",
       "      <td>40.761728</td>\n",
       "      <td>-73.983849</td>\n",
       "    </tr>\n",
       "    <tr>\n",
       "      <th>22</th>\n",
       "      <td>127</td>\n",
       "      <td>313.105263</td>\n",
       "      <td>Times Sq - 42 St</td>\n",
       "      <td>40.755290</td>\n",
       "      <td>-73.987495</td>\n",
       "    </tr>\n",
       "    <tr>\n",
       "      <th>23</th>\n",
       "      <td>128</td>\n",
       "      <td>219.000000</td>\n",
       "      <td>34 St - Penn Station</td>\n",
       "      <td>40.750373</td>\n",
       "      <td>-73.991057</td>\n",
       "    </tr>\n",
       "    <tr>\n",
       "      <th>24</th>\n",
       "      <td>129</td>\n",
       "      <td>249.571429</td>\n",
       "      <td>28 St</td>\n",
       "      <td>40.747215</td>\n",
       "      <td>-73.993365</td>\n",
       "    </tr>\n",
       "    <tr>\n",
       "      <th>25</th>\n",
       "      <td>130</td>\n",
       "      <td>271.750000</td>\n",
       "      <td>23 St</td>\n",
       "      <td>40.744081</td>\n",
       "      <td>-73.995657</td>\n",
       "    </tr>\n",
       "    <tr>\n",
       "      <th>26</th>\n",
       "      <td>131</td>\n",
       "      <td>215.625000</td>\n",
       "      <td>18 St</td>\n",
       "      <td>40.741040</td>\n",
       "      <td>-73.997871</td>\n",
       "    </tr>\n",
       "    <tr>\n",
       "      <th>27</th>\n",
       "      <td>132</td>\n",
       "      <td>328.272727</td>\n",
       "      <td>14 St</td>\n",
       "      <td>40.737826</td>\n",
       "      <td>-74.000201</td>\n",
       "    </tr>\n",
       "    <tr>\n",
       "      <th>28</th>\n",
       "      <td>133</td>\n",
       "      <td>280.000000</td>\n",
       "      <td>Christopher St - Sheridan Sq</td>\n",
       "      <td>40.733422</td>\n",
       "      <td>-74.002906</td>\n",
       "    </tr>\n",
       "    <tr>\n",
       "      <th>29</th>\n",
       "      <td>134</td>\n",
       "      <td>390.000000</td>\n",
       "      <td>Houston St</td>\n",
       "      <td>40.728251</td>\n",
       "      <td>-74.005367</td>\n",
       "    </tr>\n",
       "    <tr>\n",
       "      <th>...</th>\n",
       "      <td>...</td>\n",
       "      <td>...</td>\n",
       "      <td>...</td>\n",
       "      <td>...</td>\n",
       "      <td>...</td>\n",
       "    </tr>\n",
       "    <tr>\n",
       "      <th>425</th>\n",
       "      <td>R34</td>\n",
       "      <td>183.112360</td>\n",
       "      <td>Prospect Av</td>\n",
       "      <td>40.665414</td>\n",
       "      <td>-73.992872</td>\n",
       "    </tr>\n",
       "    <tr>\n",
       "      <th>426</th>\n",
       "      <td>R35</td>\n",
       "      <td>212.360465</td>\n",
       "      <td>25 St</td>\n",
       "      <td>40.660397</td>\n",
       "      <td>-73.998091</td>\n",
       "    </tr>\n",
       "    <tr>\n",
       "      <th>427</th>\n",
       "      <td>R36</td>\n",
       "      <td>228.174359</td>\n",
       "      <td>36 St</td>\n",
       "      <td>40.655144</td>\n",
       "      <td>-74.003549</td>\n",
       "    </tr>\n",
       "    <tr>\n",
       "      <th>428</th>\n",
       "      <td>R39</td>\n",
       "      <td>226.912281</td>\n",
       "      <td>45 St</td>\n",
       "      <td>40.648939</td>\n",
       "      <td>-74.010006</td>\n",
       "    </tr>\n",
       "    <tr>\n",
       "      <th>429</th>\n",
       "      <td>R40</td>\n",
       "      <td>198.350000</td>\n",
       "      <td>53 St</td>\n",
       "      <td>40.645069</td>\n",
       "      <td>-74.014034</td>\n",
       "    </tr>\n",
       "    <tr>\n",
       "      <th>430</th>\n",
       "      <td>R41</td>\n",
       "      <td>284.923077</td>\n",
       "      <td>59 St</td>\n",
       "      <td>40.641362</td>\n",
       "      <td>-74.017881</td>\n",
       "    </tr>\n",
       "    <tr>\n",
       "      <th>431</th>\n",
       "      <td>R42</td>\n",
       "      <td>224.246753</td>\n",
       "      <td>Bay Ridge Av</td>\n",
       "      <td>40.634967</td>\n",
       "      <td>-74.023377</td>\n",
       "    </tr>\n",
       "    <tr>\n",
       "      <th>432</th>\n",
       "      <td>R43</td>\n",
       "      <td>212.180556</td>\n",
       "      <td>77 St</td>\n",
       "      <td>40.629742</td>\n",
       "      <td>-74.025510</td>\n",
       "    </tr>\n",
       "    <tr>\n",
       "      <th>433</th>\n",
       "      <td>R44</td>\n",
       "      <td>220.764045</td>\n",
       "      <td>86 St</td>\n",
       "      <td>40.622687</td>\n",
       "      <td>-74.028398</td>\n",
       "    </tr>\n",
       "    <tr>\n",
       "      <th>434</th>\n",
       "      <td>R45</td>\n",
       "      <td>72.211180</td>\n",
       "      <td>Bay Ridge - 95 St</td>\n",
       "      <td>40.616622</td>\n",
       "      <td>-74.030876</td>\n",
       "    </tr>\n",
       "    <tr>\n",
       "      <th>435</th>\n",
       "      <td>S09</td>\n",
       "      <td>0.000000</td>\n",
       "      <td>Tottenville</td>\n",
       "      <td>40.512764</td>\n",
       "      <td>-74.251961</td>\n",
       "    </tr>\n",
       "    <tr>\n",
       "      <th>436</th>\n",
       "      <td>S11</td>\n",
       "      <td>-69.000000</td>\n",
       "      <td>Arthur Kill</td>\n",
       "      <td>40.516578</td>\n",
       "      <td>-74.242096</td>\n",
       "    </tr>\n",
       "    <tr>\n",
       "      <th>437</th>\n",
       "      <td>S13</td>\n",
       "      <td>-67.000000</td>\n",
       "      <td>Richmond Valley</td>\n",
       "      <td>40.519631</td>\n",
       "      <td>-74.229141</td>\n",
       "    </tr>\n",
       "    <tr>\n",
       "      <th>438</th>\n",
       "      <td>S15</td>\n",
       "      <td>-21.600000</td>\n",
       "      <td>Prince's Bay</td>\n",
       "      <td>40.525507</td>\n",
       "      <td>-74.200064</td>\n",
       "    </tr>\n",
       "    <tr>\n",
       "      <th>439</th>\n",
       "      <td>S16</td>\n",
       "      <td>-330.000000</td>\n",
       "      <td>Huguenot</td>\n",
       "      <td>40.533674</td>\n",
       "      <td>-74.191794</td>\n",
       "    </tr>\n",
       "    <tr>\n",
       "      <th>440</th>\n",
       "      <td>S17</td>\n",
       "      <td>-186.375000</td>\n",
       "      <td>Annadale</td>\n",
       "      <td>40.540460</td>\n",
       "      <td>-74.178217</td>\n",
       "    </tr>\n",
       "    <tr>\n",
       "      <th>441</th>\n",
       "      <td>S18</td>\n",
       "      <td>-69.000000</td>\n",
       "      <td>Eltingville</td>\n",
       "      <td>40.544601</td>\n",
       "      <td>-74.164570</td>\n",
       "    </tr>\n",
       "    <tr>\n",
       "      <th>442</th>\n",
       "      <td>S19</td>\n",
       "      <td>-82.333333</td>\n",
       "      <td>Great Kills</td>\n",
       "      <td>40.551231</td>\n",
       "      <td>-74.151399</td>\n",
       "    </tr>\n",
       "    <tr>\n",
       "      <th>443</th>\n",
       "      <td>S20</td>\n",
       "      <td>-113.000000</td>\n",
       "      <td>Bay Terrace</td>\n",
       "      <td>40.556400</td>\n",
       "      <td>-74.136907</td>\n",
       "    </tr>\n",
       "    <tr>\n",
       "      <th>444</th>\n",
       "      <td>S21</td>\n",
       "      <td>162.000000</td>\n",
       "      <td>Oakwood Heights</td>\n",
       "      <td>40.565110</td>\n",
       "      <td>-74.126320</td>\n",
       "    </tr>\n",
       "    <tr>\n",
       "      <th>445</th>\n",
       "      <td>S22</td>\n",
       "      <td>-228.000000</td>\n",
       "      <td>New Dorp</td>\n",
       "      <td>40.573480</td>\n",
       "      <td>-74.117210</td>\n",
       "    </tr>\n",
       "    <tr>\n",
       "      <th>446</th>\n",
       "      <td>S23</td>\n",
       "      <td>-68.000000</td>\n",
       "      <td>Grant City</td>\n",
       "      <td>40.578965</td>\n",
       "      <td>-74.109704</td>\n",
       "    </tr>\n",
       "    <tr>\n",
       "      <th>447</th>\n",
       "      <td>S24</td>\n",
       "      <td>165.000000</td>\n",
       "      <td>Jefferson Av</td>\n",
       "      <td>40.583591</td>\n",
       "      <td>-74.103338</td>\n",
       "    </tr>\n",
       "    <tr>\n",
       "      <th>448</th>\n",
       "      <td>S25</td>\n",
       "      <td>0.000000</td>\n",
       "      <td>Dongan Hills</td>\n",
       "      <td>40.588849</td>\n",
       "      <td>-74.096090</td>\n",
       "    </tr>\n",
       "    <tr>\n",
       "      <th>449</th>\n",
       "      <td>S26</td>\n",
       "      <td>-96.000000</td>\n",
       "      <td>Old Town</td>\n",
       "      <td>40.596612</td>\n",
       "      <td>-74.087368</td>\n",
       "    </tr>\n",
       "    <tr>\n",
       "      <th>450</th>\n",
       "      <td>S27</td>\n",
       "      <td>67.714286</td>\n",
       "      <td>Grasmere</td>\n",
       "      <td>40.603117</td>\n",
       "      <td>-74.084087</td>\n",
       "    </tr>\n",
       "    <tr>\n",
       "      <th>451</th>\n",
       "      <td>S28</td>\n",
       "      <td>-13.000000</td>\n",
       "      <td>Clifton</td>\n",
       "      <td>40.621319</td>\n",
       "      <td>-74.071402</td>\n",
       "    </tr>\n",
       "    <tr>\n",
       "      <th>452</th>\n",
       "      <td>S29</td>\n",
       "      <td>-28.800000</td>\n",
       "      <td>Stapleton</td>\n",
       "      <td>40.627915</td>\n",
       "      <td>-74.075162</td>\n",
       "    </tr>\n",
       "    <tr>\n",
       "      <th>453</th>\n",
       "      <td>S30</td>\n",
       "      <td>52.500000</td>\n",
       "      <td>Tompkinsville</td>\n",
       "      <td>40.636949</td>\n",
       "      <td>-74.074835</td>\n",
       "    </tr>\n",
       "    <tr>\n",
       "      <th>454</th>\n",
       "      <td>S31</td>\n",
       "      <td>0.000000</td>\n",
       "      <td>St George</td>\n",
       "      <td>40.643748</td>\n",
       "      <td>-74.073643</td>\n",
       "    </tr>\n",
       "  </tbody>\n",
       "</table>\n",
       "<p>455 rows × 5 columns</p>\n",
       "</div>"
      ],
      "text/plain": [
       "    stop_id       delay                     stop_name   stop_lat   stop_lon\n",
       "0       101  282.800000   Van Cortlandt Park - 242 St  40.889248 -73.898583\n",
       "1       103  382.428571                        238 St  40.884667 -73.900870\n",
       "2       104  340.000000                        231 St  40.878856 -73.904834\n",
       "3       106  327.000000          Marble Hill - 225 St  40.874561 -73.909831\n",
       "4       107  197.714286                        215 St  40.869444 -73.915279\n",
       "5       108  414.666667                        207 St  40.864621 -73.918822\n",
       "6       109  391.333333                    Dyckman St  40.860531 -73.925536\n",
       "7       110   86.500000                        191 St  40.855225 -73.929412\n",
       "8       111  150.000000                        181 St  40.849505 -73.933596\n",
       "9       112  224.333333       168 St - Washington Hts  40.840556 -73.940133\n",
       "10      113  106.800000                        157 St  40.834041 -73.944890\n",
       "11      115   53.666667         137 St - City College  40.822008 -73.953676\n",
       "12      116  103.000000                        125 St  40.815581 -73.958372\n",
       "13      118   35.000000                Cathedral Pkwy  40.803967 -73.966847\n",
       "14      119  -26.000000                        103 St  40.799446 -73.968379\n",
       "15      120  128.323529                         96 St  40.793919 -73.972323\n",
       "16      121   30.000000                         86 St  40.788644 -73.976218\n",
       "17      122  -41.000000                         79 St  40.783934 -73.979917\n",
       "18      123  221.350000                         72 St  40.778453 -73.981970\n",
       "19      124  182.750000        66 St - Lincoln Center  40.773440 -73.982209\n",
       "20      125  205.647059       59 St - Columbus Circle  40.768247 -73.981929\n",
       "21      126  190.222222                         50 St  40.761728 -73.983849\n",
       "22      127  313.105263              Times Sq - 42 St  40.755290 -73.987495\n",
       "23      128  219.000000          34 St - Penn Station  40.750373 -73.991057\n",
       "24      129  249.571429                         28 St  40.747215 -73.993365\n",
       "25      130  271.750000                         23 St  40.744081 -73.995657\n",
       "26      131  215.625000                         18 St  40.741040 -73.997871\n",
       "27      132  328.272727                         14 St  40.737826 -74.000201\n",
       "28      133  280.000000  Christopher St - Sheridan Sq  40.733422 -74.002906\n",
       "29      134  390.000000                    Houston St  40.728251 -74.005367\n",
       "..      ...         ...                           ...        ...        ...\n",
       "425     R34  183.112360                   Prospect Av  40.665414 -73.992872\n",
       "426     R35  212.360465                         25 St  40.660397 -73.998091\n",
       "427     R36  228.174359                         36 St  40.655144 -74.003549\n",
       "428     R39  226.912281                         45 St  40.648939 -74.010006\n",
       "429     R40  198.350000                         53 St  40.645069 -74.014034\n",
       "430     R41  284.923077                         59 St  40.641362 -74.017881\n",
       "431     R42  224.246753                  Bay Ridge Av  40.634967 -74.023377\n",
       "432     R43  212.180556                         77 St  40.629742 -74.025510\n",
       "433     R44  220.764045                         86 St  40.622687 -74.028398\n",
       "434     R45   72.211180             Bay Ridge - 95 St  40.616622 -74.030876\n",
       "435     S09    0.000000                   Tottenville  40.512764 -74.251961\n",
       "436     S11  -69.000000                   Arthur Kill  40.516578 -74.242096\n",
       "437     S13  -67.000000               Richmond Valley  40.519631 -74.229141\n",
       "438     S15  -21.600000                  Prince's Bay  40.525507 -74.200064\n",
       "439     S16 -330.000000                      Huguenot  40.533674 -74.191794\n",
       "440     S17 -186.375000                      Annadale  40.540460 -74.178217\n",
       "441     S18  -69.000000                   Eltingville  40.544601 -74.164570\n",
       "442     S19  -82.333333                   Great Kills  40.551231 -74.151399\n",
       "443     S20 -113.000000                   Bay Terrace  40.556400 -74.136907\n",
       "444     S21  162.000000               Oakwood Heights  40.565110 -74.126320\n",
       "445     S22 -228.000000                      New Dorp  40.573480 -74.117210\n",
       "446     S23  -68.000000                    Grant City  40.578965 -74.109704\n",
       "447     S24  165.000000                  Jefferson Av  40.583591 -74.103338\n",
       "448     S25    0.000000                  Dongan Hills  40.588849 -74.096090\n",
       "449     S26  -96.000000                      Old Town  40.596612 -74.087368\n",
       "450     S27   67.714286                      Grasmere  40.603117 -74.084087\n",
       "451     S28  -13.000000                       Clifton  40.621319 -74.071402\n",
       "452     S29  -28.800000                     Stapleton  40.627915 -74.075162\n",
       "453     S30   52.500000                 Tompkinsville  40.636949 -74.074835\n",
       "454     S31    0.000000                     St George  40.643748 -74.073643\n",
       "\n",
       "[455 rows x 5 columns]"
      ]
     },
     "execution_count": 12,
     "metadata": {},
     "output_type": "execute_result"
    }
   ],
   "source": [
    "df_delay_groupbystop = df_delay.copy()\n",
    "df_delay_groupbystop.stop_id = df_delay_groupbystop.stop_id.apply(lambda x: x[:-1]) # stop_id consists of 3 characters & S/N bound\n",
    "df_delay_groupbystop = df_delay_groupbystop.groupby('stop_id').mean().reset_index()\n",
    "\n",
    "stops = pd.read_csv(\"gtfs20180708/stops.txt\")\n",
    "pd.merge(df_delay_groupbystop, stops, left_on='stop_id', right_on='stop_id', how='left')[['stop_id', 'delay', 'stop_name', 'stop_lat', 'stop_lon']]"
   ]
  },
  {
   "cell_type": "code",
   "execution_count": 13,
   "metadata": {
    "ExecuteTime": {
     "end_time": "2019-09-05T19:31:48.318096Z",
     "start_time": "2019-09-05T19:31:47.790174Z"
    }
   },
   "outputs": [
    {
     "data": {
      "text/plain": [
       "Text(0.5, 1.0, 'MTA Subway Delay Stats for B-Division trains on 2019/6/30')"
      ]
     },
     "execution_count": 13,
     "metadata": {},
     "output_type": "execute_result"
    },
    {
     "data": {
      "image/png": "[encoded data removed]",
      "text/plain": [
       "<Figure size 720x720 with 1 Axes>"
      ]
     },
     "metadata": {
      "needs_background": "light"
     },
     "output_type": "display_data"
    }
   ],
   "source": [
    "import matplotlib.pyplot as plt\n",
    "%matplotlib inline\n",
    "\n",
    "fig = plt.figure(figsize=(10, 10))\n",
    "ax = fig.add_subplot(111)\n",
    "df_delay.delay.hist(bins=100)\n",
    "plt.xlabel('Delay (seconds)')\n",
    "plt.ylabel('Number of arrivals')\n",
    "plt.title('MTA Subway Delay Stats for B-Division trains on 2019/6/30')"
   ]
  },
  {
   "cell_type": "markdown",
   "metadata": {},
   "source": [
    "## Average route delay for a single station"
   ]
  },
  {
   "cell_type": "code",
   "execution_count": 14,
   "metadata": {
    "ExecuteTime": {
     "end_time": "2019-09-05T19:31:50.361522Z",
     "start_time": "2019-09-05T19:31:50.349553Z"
    }
   },
   "outputs": [],
   "source": [
    "# take Atlantic as an example\n",
    "Atlantic_stop_list = list(stops[stops.stop_name.apply(lambda x: 'Atlantic' in x)]['stop_id'])\n",
    "df_delay_Atlantic = df_delay[df_delay['stop_id'].isin(Atlantic_stop_list)]"
   ]
  },
  {
   "cell_type": "code",
   "execution_count": 17,
   "metadata": {
    "ExecuteTime": {
     "end_time": "2019-09-05T19:32:08.903523Z",
     "start_time": "2019-09-05T19:32:08.892553Z"
    }
   },
   "outputs": [
    {
     "data": {
      "text/html": [
       "<div>\n",
       "<style scoped>\n",
       "    .dataframe tbody tr th:only-of-type {\n",
       "        vertical-align: middle;\n",
       "    }\n",
       "\n",
       "    .dataframe tbody tr th {\n",
       "        vertical-align: top;\n",
       "    }\n",
       "\n",
       "    .dataframe thead th {\n",
       "        text-align: right;\n",
       "    }\n",
       "</style>\n",
       "<table border=\"1\" class=\"dataframe\">\n",
       "  <thead>\n",
       "    <tr style=\"text-align: right;\">\n",
       "      <th></th>\n",
       "      <th>delay</th>\n",
       "    </tr>\n",
       "    <tr>\n",
       "      <th>route_id</th>\n",
       "      <th></th>\n",
       "    </tr>\n",
       "  </thead>\n",
       "  <tbody>\n",
       "    <tr>\n",
       "      <th>2</th>\n",
       "      <td>337.000000</td>\n",
       "    </tr>\n",
       "    <tr>\n",
       "      <th>3</th>\n",
       "      <td>427.000000</td>\n",
       "    </tr>\n",
       "    <tr>\n",
       "      <th>4</th>\n",
       "      <td>29.000000</td>\n",
       "    </tr>\n",
       "    <tr>\n",
       "      <th>5</th>\n",
       "      <td>171.000000</td>\n",
       "    </tr>\n",
       "    <tr>\n",
       "      <th>B</th>\n",
       "      <td>118.238095</td>\n",
       "    </tr>\n",
       "    <tr>\n",
       "      <th>D</th>\n",
       "      <td>201.193548</td>\n",
       "    </tr>\n",
       "    <tr>\n",
       "      <th>L</th>\n",
       "      <td>-16.859155</td>\n",
       "    </tr>\n",
       "    <tr>\n",
       "      <th>N</th>\n",
       "      <td>320.096154</td>\n",
       "    </tr>\n",
       "    <tr>\n",
       "      <th>Q</th>\n",
       "      <td>180.675000</td>\n",
       "    </tr>\n",
       "    <tr>\n",
       "      <th>R</th>\n",
       "      <td>223.909091</td>\n",
       "    </tr>\n",
       "  </tbody>\n",
       "</table>\n",
       "</div>"
      ],
      "text/plain": [
       "               delay\n",
       "route_id            \n",
       "2         337.000000\n",
       "3         427.000000\n",
       "4          29.000000\n",
       "5         171.000000\n",
       "B         118.238095\n",
       "D         201.193548\n",
       "L         -16.859155\n",
       "N         320.096154\n",
       "Q         180.675000\n",
       "R         223.909091"
      ]
     },
     "execution_count": 17,
     "metadata": {},
     "output_type": "execute_result"
    }
   ],
   "source": [
    "df_delay_Atlantic.groupby('route_id').mean()[['delay']]"
   ]
  },
  {
   "cell_type": "code",
   "execution_count": null,
   "metadata": {},
   "outputs": [],
   "source": []
  }
 ],
 "metadata": {
  "kernelspec": {
   "display_name": "Python 3",
   "language": "python",
   "name": "python3"
  },
  "language_info": {
   "codemirror_mode": {
    "name": "ipython",
    "version": 3
   },
   "file_extension": ".py",
   "mimetype": "text/x-python",
   "name": "python",
   "nbconvert_exporter": "python",
   "pygments_lexer": "ipython3",
   "version": "3.6.8"
  },
  "toc": {
   "base_numbering": 1,
   "nav_menu": {},
   "number_sections": true,
   "sideBar": true,
   "skip_h1_title": false,
   "title_cell": "Table of Contents",
   "title_sidebar": "Contents",
   "toc_cell": false,
   "toc_position": {
    "height": "calc(100% - 180px)",
    "left": "10px",
    "top": "150px",
    "width": "307.2px"
   },
   "toc_section_display": true,
   "toc_window_display": true
  }
 },
 "nbformat": 4,
 "nbformat_minor": 2
}
